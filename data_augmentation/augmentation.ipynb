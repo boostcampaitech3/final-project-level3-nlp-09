{
 "cells": [
  {
   "cell_type": "code",
   "execution_count": 1,
   "id": "9e40d79a-f2a2-4222-a559-df5c101399e0",
   "metadata": {},
   "outputs": [],
   "source": [
    "from aeda import *\n",
    "from eda import *\n",
    "from pororomt import *\n",
    "\n",
    "import pandas as pd\n",
    "from pororo import Pororo\n",
    "from konlpy.tag import Komoran, Kkma, Okt, Hannanum\n",
    "\n",
    "import seaborn as sns\n",
    "import warnings\n",
    "import random\n",
    "import matplotlib.pyplot as plt\n",
    "import re\n",
    "\n",
    "warnings.filterwarnings(action='ignore')\n",
    "random.seed(42)"
   ]
  },
  {
   "cell_type": "markdown",
   "id": "4edd086d-c858-4f40-b0b3-156137a10cac",
   "metadata": {},
   "source": [
    "# 목차\n",
    "- 형태소분석기 -> Okt로 조사 제거\n",
    "- no_answer 증강\n",
    "- EDA(Easy Data Augmentation)\n",
    "- AEDA(An Easier Data Augmentation)\n",
    "- Back Translation(일본,영어,중국)\n",
    "--- "
   ]
  },
  {
   "cell_type": "markdown",
   "id": "a49c49f0-5896-492c-86ae-4d7ed6044043",
   "metadata": {},
   "source": [
    "`데이터`"
   ]
  },
  {
   "cell_type": "code",
   "execution_count": 2,
   "id": "d644ecb7-e40b-4c30-95b1-d4b0b6c6e5a0",
   "metadata": {},
   "outputs": [],
   "source": [
    "df=pd.read_csv('../data/raw_data/origin_data.csv')"
   ]
  },
  {
   "cell_type": "markdown",
   "id": "b0c1f39e-428e-44d8-9b39-72509cde0935",
   "metadata": {},
   "source": [
    "`Pororo NER`"
   ]
  },
  {
   "cell_type": "code",
   "execution_count": 3,
   "id": "a903b005-7178-4d83-96be-fa0271ca25d0",
   "metadata": {},
   "outputs": [],
   "source": [
    "ner = Pororo(task=\"ner\", lang=\"ko\")"
   ]
  },
  {
   "cell_type": "markdown",
   "id": "a5f27fbb-7e0e-470b-b726-8d0be9752317",
   "metadata": {},
   "source": [
    "`토크나이저`"
   ]
  },
  {
   "cell_type": "code",
   "execution_count": 4,
   "id": "f9f9b748-1ce2-4c38-8b1f-cbe2bb928b71",
   "metadata": {},
   "outputs": [],
   "source": [
    "from transformers import AutoModel, AutoTokenizer\n",
    "\n",
    "MODEL_NAME = \"klue/roberta-large\"\n",
    "tokenizer = AutoTokenizer.from_pretrained(MODEL_NAME)"
   ]
  },
  {
   "cell_type": "markdown",
   "id": "f2196d32-c6bd-401e-b895-e829cc900348",
   "metadata": {},
   "source": [
    "# 형태소분석기 -> Okt로 조사제거"
   ]
  },
  {
   "cell_type": "markdown",
   "id": "1fc13f9a-aff2-4473-923b-8a7c4df5c3f3",
   "metadata": {},
   "source": [
    "- [Okt 품사관련 참고링크](https://datascienceschool.net/03%20machine%20learning/03.01.02%20KoNLPy%20%ED%95%9C%EA%B5%AD%EC%96%B4%20%EC%B2%98%EB%A6%AC%20%ED%8C%A8%ED%82%A4%EC%A7%80.html) \n",
    "- 제거해야할것 : Josa\n",
    "    - Puncuation은 \"?\" 때문에 안됨"
   ]
  },
  {
   "cell_type": "code",
   "execution_count": 5,
   "id": "a53c5139-4636-4b02-a0df-5fd3fa9d99fb",
   "metadata": {
    "tags": []
   },
   "outputs": [],
   "source": [
    "komoran = Komoran()\n",
    "kkma = Kkma()\n",
    "okt = Okt()\n",
    "hannanum=Hannanum()\n",
    "\n",
    "class List(list): \n",
    "    def __str__(self): \n",
    "        return \"[\" + \", \".join([\"%s\" % x for x in self]) + \"]\"\n",
    "    \n",
    "sentence='제178회 완주군의회 임시회 회기는 언제로 결정됐어?'\n",
    "\n",
    "# print(List(komoran.morphs(sentence)))\n",
    "# print(List(hannanum.morphs(sentence)))\n",
    "# print(List(okt.morphs(sentence)))\n",
    "# print(List(kkma.morphs(sentence)))\n",
    "# print(\"------------\")\n",
    "# print(komoran.morphs(sentence))\n",
    "# print(hannanum.morphs(sentence))\n",
    "# print(okt.morphs(sentence))\n",
    "# print(kkma.morphs(sentence))"
   ]
  },
  {
   "cell_type": "code",
   "execution_count": 6,
   "id": "3de80fba-7c08-4d3a-8b58-fa1c1d8a7a74",
   "metadata": {
    "tags": []
   },
   "outputs": [
    {
     "name": "stdout",
     "output_type": "stream",
     "text": [
      "데이터 프레임 안의 품사 : ['Adverb', 'Adjective', 'Suffix', 'Verb', 'Conjunction', 'Determiner', 'Alpha', 'Josa', 'Noun', 'Foreign', 'Number', 'Modifier', 'Punctuation']\n"
     ]
    }
   ],
   "source": [
    "df_del_josa=pd.read_csv('../data/raw_data/origin_data.csv')\n",
    "\n",
    "new=[]\n",
    "for i in range(len(df_del_josa)):\n",
    "    for j in range(len(okt.pos(df_del_josa['question'][i]))):\n",
    "        new.append(okt.pos(df_del_josa['question'][i])[j][1])\n",
    "\n",
    "print(f\"데이터 프레임 안의 품사 : {list(set(new))}\")"
   ]
  },
  {
   "cell_type": "code",
   "execution_count": 7,
   "id": "c2d2c4f7-7a83-4e16-a320-aea5bf8bb749",
   "metadata": {},
   "outputs": [],
   "source": [
    "del_josa=[]\n",
    "for i in range(len(df_del_josa)):\n",
    "    okt_pos_list=okt.pos(df_del_josa['question'][i])\n",
    "    tmp_list=[]\n",
    "    for j in range(len(okt_pos_list)):\n",
    "        if okt_pos_list[j][1]!='Josa':\n",
    "            tmp_list.append(okt_pos_list[j][0])\n",
    "    del_josa.append(' '.join(tmp_list))\n",
    "\n",
    "df_del_josa['question']=del_josa"
   ]
  },
  {
   "cell_type": "code",
   "execution_count": 8,
   "id": "12c0ad13-5e2e-4d8d-90aa-d1928802dd3c",
   "metadata": {},
   "outputs": [],
   "source": [
    "df_del_josa.to_csv(\"../data/raw_data/origin_data_del_josa.csv\", mode='w', index=False)"
   ]
  },
  {
   "cell_type": "markdown",
   "id": "1a96587a-f57c-4a70-b546-2beb306de3bc",
   "metadata": {
    "tags": []
   },
   "source": [
    "# EDA\n",
    "- eda.py 수정 -> RD사용안하고, num_aug =5 -> set으로 중복제거 ->리스트 안의 1개만 가져오기\n",
    "- 사용 : EDA(sentence)\n",
    "# 네가지\n",
    "- SR: Synonym Replacement, 특정 단어를 유의어로 교체\n",
    "- RI: Random Insertion, 임의의 단어를 삽입\n",
    "- RS: Random Swap, 문장 내 임의의 두 단어의 위치를 바꿈\n",
    "- RD: Random Deletion: 임의의 단어를 삭제(X)"
   ]
  },
  {
   "cell_type": "code",
   "execution_count": 9,
   "id": "50101b7f-c40c-447d-ade4-63b2d04523dc",
   "metadata": {},
   "outputs": [],
   "source": [
    "df_eda=pd.read_csv('../data/train.csv')"
   ]
  },
  {
   "cell_type": "code",
   "execution_count": 10,
   "id": "a0540346-22df-4775-a581-23f2850dd890",
   "metadata": {},
   "outputs": [],
   "source": [
    "why_list=list(df_eda[df_eda['category']==5].index)\n",
    "what_list=list(df_eda[df_eda['category']==6].index)\n",
    "\n",
    "why_df=df_eda.iloc[why_list]\n",
    "what_df=df_eda.iloc[what_list]\n",
    "\n",
    "what_qu_list=list(what_df['question'])\n",
    "why_qu_list=list(why_df['question'])\n",
    "\n",
    "what_eda_qu_list=list(map(EDA,what_qu_list))\n",
    "why_eda_qu_list=list(map(EDA,why_qu_list))\n",
    "\n",
    "what_df.to_csv(\"../data/raw_data/what_data.csv\", mode='w', index=False)\n",
    "why_df.to_csv(\"../data/raw_data/why_data.csv\", mode='w', index=False)"
   ]
  },
  {
   "cell_type": "code",
   "execution_count": 11,
   "id": "077548c5-d342-48b5-b6a1-e70774f623ff",
   "metadata": {},
   "outputs": [],
   "source": [
    "what_df=pd.read_csv('../data/raw_data/what_data.csv')\n",
    "why_df=pd.read_csv('../data/raw_data/why_data.csv')\n",
    "\n",
    "what_df['question']=what_eda_qu_list\n",
    "why_df['question']=why_eda_qu_list\n",
    "\n",
    "new_eda_df=pd.concat([df_eda,what_df,why_df])\n",
    "\n",
    "# 인덱스 초기화\n",
    "new_eda_df.index=[i for i in range(len(new_eda_df))]\n",
    "new_eda_df=new_eda_df.sample(frac=1,random_state=42).reset_index(drop=True)"
   ]
  },
  {
   "cell_type": "code",
   "execution_count": 12,
   "id": "54168f1a-6b4b-4a9a-a9f9-81a6fc02876a",
   "metadata": {},
   "outputs": [],
   "source": [
    "new_eda_df.to_csv(\"../data/train.csv\", mode='w', index=False)"
   ]
  },
  {
   "cell_type": "markdown",
   "id": "d8c27d66-af37-4ad9-8f63-a747e9e2529c",
   "metadata": {
    "tags": []
   },
   "source": [
    "# AEDA\n",
    "- aeda.py수정 -> DATASETS사용X\n",
    "- 사용 : insert_punctuation_marks(sentence)"
   ]
  },
  {
   "cell_type": "code",
   "execution_count": 13,
   "id": "3b8b87d3-a1c8-43bd-82da-a0a8508e130d",
   "metadata": {},
   "outputs": [],
   "source": [
    "df_aeda=pd.read_csv('../data/raw_data/origin_data.csv')"
   ]
  },
  {
   "cell_type": "code",
   "execution_count": 14,
   "id": "aa21acc2-c819-4e00-a021-41fdad180c29",
   "metadata": {},
   "outputs": [],
   "source": [
    "aeda_list=[]\n",
    "for i in range(len(df_aeda)):\n",
    "    aeda_list.append(insert_punctuation_marks(df_aeda['question'][i]))\n",
    "    \n",
    "df_aeda['question']=aeda_list"
   ]
  },
  {
   "cell_type": "code",
   "execution_count": 15,
   "id": "603e83e0-884a-45c3-bdd0-79a45c272fc6",
   "metadata": {},
   "outputs": [],
   "source": [
    "df_aeda.to_csv(\"../data/raw_data/origin_data_aeda.csv\", mode='w', index=False)"
   ]
  },
  {
   "cell_type": "markdown",
   "id": "6d4fe1b4-f332-4214-b59e-64225ae90126",
   "metadata": {
    "tags": []
   },
   "source": [
    "# Back Translation\n",
    "- 참고 : https://kakaobrain.github.io/pororo/seq2seq/mt.html\n",
    "- 성능을 위해서 fast 사용 X  \n",
    "![score](https://user-images.githubusercontent.com/46811558/170887191-bca7b5c0-fa84-4acf-8fb5-14560d6bb706.png)"
   ]
  },
  {
   "cell_type": "markdown",
   "id": "4f66e440-552c-490d-8dc3-7118dbc982ab",
   "metadata": {},
   "source": [
    "# 일본어로 진행 "
   ]
  },
  {
   "cell_type": "code",
   "execution_count": null,
   "id": "984aadc5-35ec-4f73-b5d3-b8a52dffaebb",
   "metadata": {},
   "outputs": [],
   "source": [
    "qu_list=list(df['question'])\n",
    "bt_qu_list=[]\n",
    "\n",
    "for i in range(len(qu_list)):\n",
    "    bt_qu_list.append(back_translation(qu_list[i],language='ja'))"
   ]
  },
  {
   "cell_type": "code",
   "execution_count": null,
   "id": "c98fc2e0-b330-49c1-aa44-972b220140e8",
   "metadata": {},
   "outputs": [],
   "source": [
    "new_df=pd.read_csv('../data/raw_data/origin_data.csv')\n",
    "new_df['question']=bt_qu_list\n",
    "new_df.to_csv('../data/raw_data/origin_data_ja_bt.csv',index=False)"
   ]
  },
  {
   "cell_type": "code",
   "execution_count": null,
   "id": "9cd65de8-5bcb-4fa2-aad2-e806cf829fbb",
   "metadata": {},
   "outputs": [],
   "source": [
    "new_df['context'][0]"
   ]
  },
  {
   "cell_type": "markdown",
   "id": "d1981b47-bcf8-4ce2-b769-66afdd649701",
   "metadata": {},
   "source": [
    "# 비교"
   ]
  },
  {
   "cell_type": "code",
   "execution_count": 34,
   "id": "51c0ac0d-ee73-4362-9021-db13eff6c4e4",
   "metadata": {},
   "outputs": [
    {
     "name": "stdout",
     "output_type": "stream",
     "text": [
      "원문 : 제178회 완주군의회 임시회 회기는 언제로 결정됐어?\n",
      "----------------------------------\n",
      "EDA : 제178회 완주군의회 임시회 회기는 결정됐어? 언제로\n",
      "----------------------------------\n",
      "AEDA : , 제178회 완주군의회 임시회 회기는 언제로 결정됐어?\n",
      "----------------------------------\n",
      "Back Translation\n",
      "영어 : 완주군의회 제178회 임시회가 언제 결정됐나요? \n",
      "일본어 : 제178회 완주군 의회의 임시회의는 언제로 정해졌니? \n",
      "중국어 : 군사위원회의 임시 회의가 언제 결정되었는지 \n",
      "----------------------------------\n"
     ]
    }
   ],
   "source": [
    "sen='제178회 완주군의회 임시회 회기는 언제로 결정됐어?'\n",
    "\n",
    "print(f\"원문 : {sen}\")\n",
    "print(\"----------------------------------\")\n",
    "print(f\"EDA : {EDA(sen)}\")\n",
    "print(\"----------------------------------\")\n",
    "print(f\"AEDA : {insert_punctuation_marks(sen)}\")\n",
    "print(\"----------------------------------\")\n",
    "print(f\"Back Translation\")\n",
    "print(f\"영어 : {back_translation(sen,language='en')} \")\n",
    "print(f\"일본어 : {back_translation(sen,language='ja')} \")\n",
    "print(f\"중국어 : {back_translation(sen,language='zh')} \")\n",
    "print(\"----------------------------------\")"
   ]
  },
  {
   "cell_type": "markdown",
   "id": "5b428e4a-0ec6-449d-8d55-65b2786fbebe",
   "metadata": {},
   "source": [
    "---\n",
    "# No_answer 증강\n",
    "- `haystack_preprocess.ipynb`로 origin_data.csv 만들기 -> `data_split.ipynb`로 split한 train사용한 후에 적용해야 함!\n",
    "- No_answer을 잘 못 맞추는 경향이 발견되어 증강 적용\n",
    "- 코드 적용 도중, origin_data.csv를 전처리할 때, haystack_preprocess.ipynb가 no_answer를 \" \"가 아닌 \"\"로 적용되는 코드오류발견\n",
    "- 오류는 strip을 if문 밖에서 적용했기 때문-> 코드 수정, 데이터 수정 및 공유 하면서 오류 바로잡음"
   ]
  },
  {
   "cell_type": "markdown",
   "id": "8609e826-d580-46e8-8a4f-4479d8b08cb9",
   "metadata": {},
   "source": [
    "## 정규표현식으로 수정 : 제(n)회 -> 제(n+10)회"
   ]
  },
  {
   "cell_type": "code",
   "execution_count": 35,
   "id": "c50e86f9-064f-477d-a586-8835285353a1",
   "metadata": {},
   "outputs": [],
   "source": [
    "def multiple10(m):        \n",
    "    n = m.group()\n",
    "    i = int(n[1:len(n)-1])+10\n",
    "    return \"제\"+str(i)+\"회\"\n",
    "def multiple10_sentence(sentence):\n",
    "    return re.sub(r'제[0-9]+회', multiple10, sentence)"
   ]
  },
  {
   "cell_type": "code",
   "execution_count": 36,
   "id": "a959e2bc-aa58-4930-8264-d8800fe18078",
   "metadata": {},
   "outputs": [],
   "source": [
    "df_no=pd.read_csv('../data/train.csv')\n",
    "df_no['answers']=df_no['answers'].apply(lambda x:eval(x))  "
   ]
  },
  {
   "cell_type": "markdown",
   "id": "c2c1e875-e286-46e4-846e-14d0edde2b7b",
   "metadata": {},
   "source": [
    "## no_answer만 살펴보기 & 유형별 분포"
   ]
  },
  {
   "cell_type": "code",
   "execution_count": 37,
   "id": "e5052a02-8c20-40d2-899a-f37548c07608",
   "metadata": {},
   "outputs": [],
   "source": [
    "no_list=[]\n",
    "for i in range(len(df_no)):\n",
    "    if len(df_no['answers'][i]['text'])==1 and df_no['answers'][i]['text']==\" \":\n",
    "        no_list.append(i)\n",
    "no_df=df_no.iloc[no_list]\n",
    "\n",
    "question_mark_dict={1:'1 : When(term)',\n",
    "                    2:'2 :When(date)',\n",
    "                    3:'3 : Who(action)',\n",
    "                    4:'4 : Who(role)',\n",
    "                    5:'5 : Why(action)',\n",
    "                    6:'6 : What(indicator)',\n",
    "                    7:'7 : What(conference)'}\n",
    "\n",
    "category_list=list(no_df['category'])\n",
    "\n",
    "for i in range(len(category_list)):\n",
    "    for key in question_mark_dict.keys():\n",
    "        if category_list[i]==key:\n",
    "            category_list[i]=question_mark_dict[key]\n",
    "\n",
    "no_df['category']=category_list"
   ]
  },
  {
   "cell_type": "code",
   "execution_count": 38,
   "id": "9d5732b1-fb6c-4c87-8af3-627c6f0079b1",
   "metadata": {},
   "outputs": [
    {
     "data": {
      "text/plain": [
       "<matplotlib.axes._subplots.AxesSubplot at 0x7ff9dea56220>"
      ]
     },
     "execution_count": 38,
     "metadata": {},
     "output_type": "execute_result"
    },
    {
     "data": {
      "image/png": "[encoded data removed]",
      "text/plain": [
       "<Figure size 1080x576 with 1 Axes>"
      ]
     },
     "metadata": {},
     "output_type": "display_data"
    }
   ],
   "source": [
    "sns.set(rc = {'figure.figsize':(15,8)})\n",
    "sns.countplot(y='category', data=no_df, order=no_df['category'].value_counts().index)"
   ]
  },
  {
   "cell_type": "markdown",
   "id": "7e0d63f3-57fb-4a91-b2a7-ff003ca6746a",
   "metadata": {},
   "source": [
    "# no_answer 증강 -> EDA의 유형별 분포를 맞춰주기 위해, 부족한 부분 일본어역번역 추가 -> SOTA!"
   ]
  },
  {
   "cell_type": "markdown",
   "id": "3f47e3bc-f3b9-4509-b5fd-04426da75d70",
   "metadata": {},
   "source": [
    "## no_answer 증강 -> 개수 31개씩으로 맞추기 -> 총 107개증강(샘플링)"
   ]
  },
  {
   "cell_type": "code",
   "execution_count": 39,
   "id": "143ff148-6344-49db-ad36-1ed3a75789ad",
   "metadata": {},
   "outputs": [],
   "source": [
    "what_list=random.sample(list(df_no[(df_no['category']==6) & (df_no['ans_len']!=1)& (df_no['question'].str.startswith('제'))].index),24)\n",
    "when_term_list=random.sample(list(df_no[(df_no['category']==1) & (df_no['ans_len']!=1)&(df_no['question'].str.startswith('제'))].index),24)\n",
    "what_conf_list=random.sample(list(df_no[(df_no['category']==7) & (df_no['ans_len']!=1)&(df_no['question'].str.startswith('제'))].index),21)\n",
    "who_list=random.sample(list(df_no[(df_no['category']==4) & (df_no['ans_len']!=1)&(df_no['question'].str.startswith('제'))].index),16)\n",
    "why_list=random.sample(list(df_no[(df_no['category']==5) & (df_no['ans_len']!=1)&(df_no['question'].str.startswith('제'))].index),14)\n",
    "when_date_list=random.sample(list(df_no[(df_no['category']==2) & (df_no['ans_len']!=1)&(df_no['question'].str.startswith('제'))].index),8)"
   ]
  },
  {
   "cell_type": "markdown",
   "id": "b7fa6648-b417-45ae-8e10-0921798deffe",
   "metadata": {},
   "source": [
    "## 40개씩 -> 성능하락\n",
    "\n",
    "what_list=list(df_no[(df_no['category']==6) & (df_no['ans_len']!=1)& (df_no['question'].str.startswith('제'))].index)[:24]\n",
    "when_term_list=list(df_no[(df_no['category']==1) & (df_no['ans_len']!=1)&(df_no['question'].str.startswith('제'))].index)[:24]\n",
    "what_conf_list=list(df_no[(df_no['category']==7) & (df_no['ans_len']!=1)&(df_no['question'].str.startswith('제'))].index)[:21]\n",
    "who_list=list(df_no[(df_no['category']==4) & (df_no['ans_len']!=1)&(df_no['question'].str.startswith('제'))].index)[:16]\n",
    "why_list=list(df_no[(df_no['category']==5) & (df_no['ans_len']!=1)&(df_no['question'].str.startswith('제'))].index)[:14]\n",
    "when_date_list=list(df_no[(df_no['category']==2) & (df_no['ans_len']!=1)&(df_no['question'].str.startswith('제'))].index)[:8]"
   ]
  },
  {
   "cell_type": "code",
   "execution_count": 40,
   "id": "0c7c4554-05a4-4b12-adf0-ab7f2aa4c8bc",
   "metadata": {},
   "outputs": [],
   "source": [
    "what_df=df_no.iloc[what_list]\n",
    "when_term_df=df_no.iloc[when_term_list]\n",
    "what_conf_df=df_no.iloc[what_conf_list]\n",
    "who_df=df_no.iloc[who_list]\n",
    "why_df=df_no.iloc[why_list]\n",
    "when_date_df=df_no.iloc[when_date_list]"
   ]
  },
  {
   "cell_type": "markdown",
   "id": "35ac8a32-824d-4a77-b5c7-b95c7676b002",
   "metadata": {},
   "source": [
    "# no_answer의 형식 맞춰주기 : \n",
    "- question : 제(n)회 -> 제(n+10)회\n",
    "- answer -> no_answer ({'answer_start': 0, 'text': ' '})\n",
    "- ans_len : 1 (no_answer는 띄어쓰기로 태깅)\n",
    "- 반복문으로 했어야함.."
   ]
  },
  {
   "cell_type": "code",
   "execution_count": 41,
   "id": "f5821957-457a-43a7-b7de-65c69e9cf2fe",
   "metadata": {},
   "outputs": [],
   "source": [
    "# question : +10회\n",
    "what_df['question']=list(map(multiple10_sentence,list(what_df['question'])))\n",
    "when_term_df['question']=list(map(multiple10_sentence,list(when_term_df['question'])))\n",
    "what_conf_df['question']=list(map(multiple10_sentence,list(what_conf_df['question'])))\n",
    "who_df['question']=list(map(multiple10_sentence,list(who_df['question'])))\n",
    "why_df['question']=list(map(multiple10_sentence,list(why_df['question'])))\n",
    "when_date_df['question']=list(map(multiple10_sentence,list(when_date_df['question'])))\n",
    "\n",
    "# no_aswer : {'answer_start': 0, 'text': ' '}\n",
    "no_answer={'answer_start': 0, 'text': ' '}\n",
    "no_answer_list=[no_answer for i in range(10)]\n",
    "\n",
    "what_df['answers']=[no_answer for i in range(len(what_df))]\n",
    "when_term_df['answers']=[no_answer for i in range(len(when_term_df))]\n",
    "what_conf_df['answers']=[no_answer for i in range(len(what_conf_df))]\n",
    "who_df['answers']=[no_answer for i in range(len(who_df))]\n",
    "why_df['answers']=[no_answer for i in range(len(why_df))]\n",
    "when_date_df['answers']=[no_answer for i in range(len(when_date_df))]\n",
    "\n",
    "# ans_len =1\n",
    "\n",
    "what_df['ans_len']=[1 for i in range(len(what_df))]\n",
    "when_term_df['ans_len']=[1 for i in range(len(when_term_df))]\n",
    "what_conf_df['ans_len']=[1 for i in range(len(what_conf_df))]\n",
    "who_df['ans_len']=[1 for i in range(len(who_df))]\n",
    "why_df['ans_len']=[1 for i in range(len(why_df))]\n",
    "when_date_df['ans_len']=[1 for i in range(len(when_date_df))]"
   ]
  },
  {
   "cell_type": "markdown",
   "id": "16e6feaa-0b3e-4dfc-a85b-b35f037657f0",
   "metadata": {},
   "source": [
    "# Index Reset"
   ]
  },
  {
   "cell_type": "code",
   "execution_count": 42,
   "id": "f48e8759-65bd-441e-813d-5bcad43a2a28",
   "metadata": {},
   "outputs": [],
   "source": [
    "# what_df.to_csv(\"../data/raw_data/what_data.csv\", mode='w', index=False)\n",
    "# when_term_df.to_csv(\"../data/raw_data/when_term_data.csv\", mode='w', index=False)\n",
    "# what_conf_df.to_csv(\"../data/raw_data/what_conf_data.csv\", mode='w', index=False)\n",
    "# who_df.to_csv(\"../data/raw_data/who_data.csv\", mode='w', index=False)\n",
    "# why_df.to_csv(\"../data/raw_data/why_data.csv\", mode='w', index=False)\n",
    "# when_date_df.to_csv(\"../data/raw_data/when_date_data.csv\", mode='w', index=False)"
   ]
  },
  {
   "cell_type": "code",
   "execution_count": 43,
   "id": "84621c81-c977-48ff-935c-fbc84313fff2",
   "metadata": {},
   "outputs": [],
   "source": [
    "# what_df=pd.read_csv('../data/raw_data/what_data.csv')\n",
    "# when_term_df=pd.read_csv('../data/raw_data/when_term_data.csv')\n",
    "# what_conf_df=pd.read_csv('../data/raw_data/what_conf_data.csv')\n",
    "# who_df=pd.read_csv('../data/raw_data/who_data.csv')\n",
    "# why_df=pd.read_csv('../data/raw_data/why_data.csv')\n",
    "# when_date_df=pd.read_csv('../data/raw_data/when_date_data.csv')"
   ]
  },
  {
   "cell_type": "markdown",
   "id": "a57afb89-a695-4266-ab58-969e35686d1e",
   "metadata": {},
   "source": [
    "# no_answer 증강된 새로운 데이터"
   ]
  },
  {
   "cell_type": "code",
   "execution_count": 44,
   "id": "78de6822-7f9b-42a8-895f-656cb168852b",
   "metadata": {},
   "outputs": [],
   "source": [
    "remove_noanswer_df=pd.concat([df_no,what_df,when_term_df,what_conf_df,who_df,why_df,when_date_df])\n",
    "remove_noanswer_df.index=[i for i in range(len(remove_noanswer_df))]\n",
    "remove_noanswer_df[\"id\"] = list(range(len(remove_noanswer_df)))\n",
    "\n",
    "remove_noanswer_df.to_csv(\"../data/train.csv\", mode='w', index=False)"
   ]
  },
  {
   "cell_type": "markdown",
   "id": "b886f970-66a3-4d16-a0b5-56522b174123",
   "metadata": {},
   "source": [
    "# 위의 no_answer 증강된 데이터 + 일본어 역번역추가\n",
    "- 1. no_answer 포함한 train.csv의 분포보기\n",
    "- 2. 분포를 포함하여 부족한 질문들의 개수만큼 `일본어 역번역` 추가"
   ]
  },
  {
   "cell_type": "code",
   "execution_count": 45,
   "id": "c533b1ad-5268-4415-aee7-4abb3df656e4",
   "metadata": {},
   "outputs": [
    {
     "data": {
      "text/plain": [
       "<matplotlib.axes._subplots.AxesSubplot at 0x7ff9df379610>"
      ]
     },
     "execution_count": 45,
     "metadata": {},
     "output_type": "execute_result"
    },
    {
     "data": {
      "image/png": "[encoded data removed]",
      "text/plain": [
       "<Figure size 1080x576 with 1 Axes>"
      ]
     },
     "metadata": {},
     "output_type": "display_data"
    }
   ],
   "source": [
    "df_no_jabt=pd.read_csv('../data/train.csv')\n",
    "\n",
    "sns.set(rc = {'figure.figsize':(15,8)})\n",
    "sns.countplot(y='category', data=df_no_jabt, order=df_no_jabt['category'].value_counts().index)"
   ]
  },
  {
   "cell_type": "code",
   "execution_count": 46,
   "id": "ab64b92c-8f12-4750-a834-fe8fcb681089",
   "metadata": {},
   "outputs": [
    {
     "data": {
      "text/plain": [
       "3    234\n",
       "7    232\n",
       "1    214\n",
       "4    191\n",
       "2    183\n",
       "5    170\n",
       "6    129\n",
       "Name: category, dtype: int64"
      ]
     },
     "execution_count": 46,
     "metadata": {},
     "output_type": "execute_result"
    }
   ],
   "source": [
    "df_no_jabt['category'].value_counts()"
   ]
  },
  {
   "cell_type": "markdown",
   "id": "fc5f1c55-85e5-40eb-9b53-b0cde186752b",
   "metadata": {},
   "source": [
    "## 일본어 역번역 미리 돌려둔 csv가져오기(pororo 1539개는 조금 오래 걸림)"
   ]
  },
  {
   "cell_type": "code",
   "execution_count": 47,
   "id": "1b87fd67-177d-4961-babe-b4125b3f22e9",
   "metadata": {},
   "outputs": [],
   "source": [
    "ja_bt=pd.read_csv('../data/raw_data/origin_data_ja_bt.csv')"
   ]
  },
  {
   "cell_type": "markdown",
   "id": "aa5dd81a-6c00-485d-a121-e2d64a9149c0",
   "metadata": {},
   "source": [
    "## 분포를 고려하여 90개의 `일본어 역번역` 데이터 증강(샘플링)"
   ]
  },
  {
   "cell_type": "code",
   "execution_count": 48,
   "id": "42be8db4-2a3b-49f0-885a-79faaab08247",
   "metadata": {},
   "outputs": [],
   "source": [
    "what_df=ja_bt.iloc[random.sample(list(ja_bt[ja_bt['category']==6].index),30)]\n",
    "why_df=ja_bt.iloc[random.sample(list(ja_bt[ja_bt['category']==5].index),20)]\n",
    "when_date_df=ja_bt.iloc[random.sample(list(ja_bt[ja_bt['category']==2].index),30)]\n",
    "who_df=ja_bt.iloc[random.sample(list(ja_bt[ja_bt['category']==4].index),10)]"
   ]
  },
  {
   "cell_type": "code",
   "execution_count": 49,
   "id": "8bde1bf4-b8ce-4002-bf8f-b970a152b3b3",
   "metadata": {},
   "outputs": [],
   "source": [
    "new_noans_with_ja_bt=pd.concat([remove_noanswer_df,what_df,why_df,when_date_df,who_df])\n",
    "new_noans_with_ja_bt.index=[i for i in range(len(new_noans_with_ja_bt))]\n",
    "new_noans_with_ja_bt.to_csv(\"../data/train.csv\", mode='w', index=False)"
   ]
  },
  {
   "cell_type": "markdown",
   "id": "5e60d535-3135-44b4-8bfe-2e87435d0c22",
   "metadata": {},
   "source": [
    "# 최종 시각화"
   ]
  },
  {
   "cell_type": "code",
   "execution_count": 51,
   "id": "c1af5ee5-49d4-488c-826a-756a3a38b576",
   "metadata": {},
   "outputs": [],
   "source": [
    "question_mark_dict={1:'1 : When(term)',\n",
    "                    2:'2 :When(date)',\n",
    "                    3:'3 : Who(action)',\n",
    "                    4:'4 : Who(role)',\n",
    "                    5:'5 : Why(action)',\n",
    "                    6:'6 : What(indicator)',\n",
    "                    7:'7 : What(conference)'}\n",
    "\n",
    "category_list=list(new_noans_with_ja_bt['category'])\n",
    "\n",
    "for i in range(len(category_list)):\n",
    "    for key in question_mark_dict.keys():\n",
    "        if category_list[i]==key:\n",
    "            category_list[i]=question_mark_dict[key]\n",
    "\n",
    "new_noans_with_ja_bt['category']=category_list"
   ]
  },
  {
   "cell_type": "code",
   "execution_count": 52,
   "id": "2a2aa822-8c53-46c1-82cd-58d4348a9446",
   "metadata": {},
   "outputs": [
    {
     "data": {
      "image/png": "[encoded data removed]",
      "text/plain": [
       "<Figure size 1080x576 with 1 Axes>"
      ]
     },
     "metadata": {},
     "output_type": "display_data"
    }
   ],
   "source": [
    "sns.set(rc = {'figure.figsize':(15,8)})\n",
    "sns.set(font_scale=2)\n",
    "ax=sns.countplot(y='category', data=new_noans_with_ja_bt, order=new_noans_with_ja_bt['category'].value_counts().index,palette=\"tab10\")\n",
    "\n",
    "for i, v in enumerate(new_noans_with_ja_bt['category'].value_counts()):\n",
    "    ax.text(v + 1, i + .10, str(v), color='black', fontweight='bold')\n",
    "    \n",
    "plt.show()"
   ]
  },
  {
   "cell_type": "code",
   "execution_count": null,
   "id": "1bbee092-8bb6-4fb6-9c4d-69c160737cef",
   "metadata": {},
   "outputs": [],
   "source": []
  },
  {
   "cell_type": "code",
   "execution_count": null,
   "id": "477d0d42-ab36-4bc9-8942-c6b07e1a6e05",
   "metadata": {},
   "outputs": [],
   "source": []
  }
 ],
 "metadata": {
  "kernelspec": {
   "display_name": "Python 3",
   "language": "python",
   "name": "python3"
  },
  "language_info": {
   "codemirror_mode": {
    "name": "ipython",
    "version": 3
   },
   "file_extension": ".py",
   "mimetype": "text/x-python",
   "name": "python",
   "nbconvert_exporter": "python",
   "pygments_lexer": "ipython3",
   "version": "3.8.5"
  }
 },
 "nbformat": 4,
 "nbformat_minor": 5
}
