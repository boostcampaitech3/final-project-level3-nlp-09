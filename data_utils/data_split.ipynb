{
 "cells": [
  {
   "cell_type": "code",
   "execution_count": null,
   "metadata": {},
   "outputs": [],
   "source": [
    "import os\n",
    "import pandas as pd\n",
    "from sklearn.model_selection import StratifiedShuffleSplit\n",
    "import pickle\n",
    "\n",
    "FILE_NAME = \"../data/raw_data/origin_data.csv\"\n",
    "SAVE_DIR = \"../data/\"\n",
    "\n",
    "def stratified_choice_train_test_split(X, test_size=0.2, random_state=42):\n",
    "  \"\"\" 라벨별로 일정 비율로 추출합니다 (ruw_label_to_num.pkl 경로 확인 필수)\"\"\"\n",
    "  split = StratifiedShuffleSplit(n_splits=1, test_size=test_size, random_state=random_state)\n",
    "  for train_idx, test_idx in split.split(X, X[\"category\"]):\n",
    "      X_train = X.iloc[train_idx]\n",
    "      X_test = X.iloc[test_idx]\n",
    "  return X_train, X_test\n",
    "\n",
    "pd_dataset = pd.read_csv(FILE_NAME)\n",
    "pd_train, pd_test = stratified_choice_train_test_split(pd_dataset, test_size=0.1, random_state=42)\n",
    "pd_train, pd_validation = stratified_choice_train_test_split(pd_train, test_size=0.1, random_state=42)\n",
    "if not os.path.exists(SAVE_DIR):\n",
    "    os.mkdir(SAVE_DIR)\n",
    "pd_train[\"id\"] = list(range(len(pd_train)))\n",
    "pd_validation[\"id\"] = list(range(len(pd_train),len(pd_train)+len(pd_validation)))\n",
    "pd_test[\"id\"] = list(range(len(pd_train)+len(pd_validation),len(pd_train)+len(pd_validation)+len(pd_test)))\n",
    "pd_train.to_csv(os.path.join(SAVE_DIR, \"train.csv\"), index=False)\n",
    "pd_validation.to_csv(os.path.join(SAVE_DIR,\"validation.csv\"), index=False)\n",
    "pd_test.to_csv(os.path.join(SAVE_DIR, \"test.csv\"), index=False)\n",
    "\n",
    "print(\"========== train test split 완료 ==========\")"
   ]
  },
  {
   "cell_type": "code",
   "execution_count": 59,
   "metadata": {},
   "outputs": [
    {
     "data": {
      "image/png": "[encoded data removed]",
      "text/plain": [
       "<Figure size 432x288 with 3 Axes>"
      ]
     },
     "metadata": {
      "needs_background": "light"
     },
     "output_type": "display_data"
    }
   ],
   "source": [
    "import seaborn as sns\n",
    "import matplotlib.pyplot as plt\n",
    "fig = plt.figure()\n",
    "for i in range(1, 4):\n",
    "    axes = fig.add_subplot(1, 3, i)\n",
    "    if i == 1:\n",
    "        sns.countplot(y='category', data=pd_train, order=pd_train['category'].value_counts().index)\n",
    "    elif i==2:\n",
    "        sns.countplot(y='category', data=pd_validation, order=pd_validation['category'].value_counts().index)\n",
    "    else:\n",
    "        sns.countplot(y='category', data=pd_test, order=pd_test['category'].value_counts().index)\n"
   ]
  },
  {
   "cell_type": "code",
   "execution_count": 60,
   "metadata": {},
   "outputs": [
    {
     "name": "stdout",
     "output_type": "stream",
     "text": [
      "<class 'pandas.core.frame.DataFrame'>\n",
      "RangeIndex: 1540 entries, 0 to 1539\n",
      "Data columns (total 5 columns):\n",
      " #   Column       Non-Null Count  Dtype \n",
      "---  ------       --------------  ----- \n",
      " 0   category     1540 non-null   int64 \n",
      " 1   document_id  1540 non-null   int64 \n",
      " 2   question     1540 non-null   object\n",
      " 3   answers      1540 non-null   object\n",
      " 4   context      1540 non-null   object\n",
      "dtypes: int64(2), object(3)\n",
      "memory usage: 60.3+ KB\n"
     ]
    }
   ],
   "source": [
    "pd_dataset.info()"
   ]
  },
  {
   "cell_type": "code",
   "execution_count": 64,
   "metadata": {},
   "outputs": [
    {
     "name": "stderr",
     "output_type": "stream",
     "text": [
      "100%|██████████| 154/154 [00:00<00:00, 2825.74it/s]\n"
     ]
    }
   ],
   "source": [
    "from tqdm import tqdm\n",
    "meeting_contexts = {}\n",
    "for i in tqdm(range(len(pd_test))):\n",
    "    dict_temp = {\n",
    "        'text': pd_test.iloc[i]['context'],\n",
    "        'document_id': str(pd_test.iloc[i]['document_id']),\n",
    "        'corpus_source': None, \n",
    "        'url': 'TODO', \n",
    "        'domain': None, \n",
    "        'title': f\"회의 # {pd_test.iloc[i]['document_id']}\", \n",
    "        'author': None, \n",
    "        'html': None,\n",
    "    }\n",
    "    meeting_contexts[str(i)] = dict_temp"
   ]
  },
  {
   "cell_type": "code",
   "execution_count": null,
   "metadata": {},
   "outputs": [],
   "source": [
    "import json\n",
    "\n",
    "with open('meeting_collection.json', 'w', encoding='utf-8') as f:\n",
    "    json.dump(meeting_contexts, f)"
   ]
  }
 ],
 "metadata": {
  "interpreter": {
   "hash": "d4d1e4263499bec80672ea0156c357c1ee493ec2b1c70f0acce89fc37c4a6abe"
  },
  "kernelspec": {
   "display_name": "Python 3.8.5 ('base')",
   "language": "python",
   "name": "python3"
  },
  "language_info": {
   "codemirror_mode": {
    "name": "ipython",
    "version": 3
   },
   "file_extension": ".py",
   "mimetype": "text/x-python",
   "name": "python",
   "nbconvert_exporter": "python",
   "pygments_lexer": "ipython3",
   "version": "3.8.5"
  },
  "orig_nbformat": 4
 },
 "nbformat": 4,
 "nbformat_minor": 2
}
