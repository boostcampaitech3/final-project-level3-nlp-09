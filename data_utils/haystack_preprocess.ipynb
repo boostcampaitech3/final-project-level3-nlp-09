{
 "cells": [
  {
   "cell_type": "code",
   "execution_count": 1,
   "id": "c071b3b4-a99b-4825-a38a-710ef0930f43",
   "metadata": {},
   "outputs": [],
   "source": [
    "import json\n",
    "import pandas as pd\n",
    "import warnings\n",
    "import re\n",
    "import pickle\n",
    "\n",
    "warnings.filterwarnings(action='ignore')"
   ]
  },
  {
   "cell_type": "code",
   "execution_count": 2,
   "id": "415558bb-320f-4412-95fe-13d38f733826",
   "metadata": {},
   "outputs": [],
   "source": [
    "raw_path = \"../data/raw_data/haystack.json\"\n",
    "\n",
    "with open(raw_path, \"r\") as json_file:\n",
    "    json_data = json.load(json_file)"
   ]
  },
  {
   "cell_type": "markdown",
   "id": "d1c9691c-385e-4316-a206-9b97b4504a27",
   "metadata": {},
   "source": [
    "## 데이터 로드 후 [MRC](https://github.com/boostcampaitech3/level2-mrc-level2-nlp-09)데이터 형식과 같게 만들기 \n",
    "- 데이터 쪼개기 (context, question, document_id, answers [{'answer_start', 'text'}] )\n",
    "- Question 별로 유형 분류"
   ]
  },
  {
   "cell_type": "code",
   "execution_count": 3,
   "id": "27fd2b22-2d05-445f-9860-b510fc02056b",
   "metadata": {
    "scrolled": true,
    "tags": []
   },
   "outputs": [
    {
     "data": {
      "text/plain": [
       "{'paragraphs': [{'qas': [{'question': '1_제178회 완주군의회 임시회 회기는 언제로 결정됐어?',\n",
       "     'id': 341139,\n",
       "     'answers': [{'answer_id': 362212,\n",
       "       'document_id': 603489,\n",
       "       'question_id': 341139,\n",
       "       'text': '4월 20일부터 4월 27일까지 8일간',\n",
       "       'answer_start': 144,\n",
       "       'answer_end': 165,\n",
       "       'answer_category': None}],\n",
       "     'is_impossible': False},\n",
       "    {'question': '3_제178회 완주군의회 임시회 회기를 발의한 사람은 누구인가?',\n",
       "     'id': 341140,\n",
       "     'answers': [{'answer_id': 362213,\n",
       "       'document_id': 603489,\n",
       "       'question_id': 341140,\n",
       "       'text': '김상식 위원장 외 3인의 의원',\n",
       "       'answer_start': 119,\n",
       "       'answer_end': 135,\n",
       "       'answer_category': None}],\n",
       "     'is_impossible': False}],\n",
       "   'context': '@제178회        완주군의회(임시회) 제 1 차 본회의회의록@\\n\\n의사일정 제1항 제178회 완주군의회 임시회 회기결정의 건을 상정합니다.  제178회 완주군의회 임시회 회기 결정의 건에 대하여는 운영위원회 김상식 위원장 외 3인의 의원이 발의 한대로 4월 20일부터 4월 27일까지 8일간으로 회기를 결정하고자 합니다. 의원 여러분 이의 있으십니까?\\n\\n(『없습니다』하는 의원 있음)\\n\\n이의가 없으므로 가결되었음을 선포합니다.\\n',\n",
       "   'document_id': 603489}]}"
      ]
     },
     "execution_count": 3,
     "metadata": {},
     "output_type": "execute_result"
    }
   ],
   "source": [
    "json_data['data'][0]"
   ]
  },
  {
   "cell_type": "code",
   "execution_count": 4,
   "id": "2bf3da5e-57fd-489f-a088-5333862e78aa",
   "metadata": {},
   "outputs": [],
   "source": [
    "def answer_pick(answers):\n",
    "    dict_answer = {\"answer_start\": answers['answer_start'],\n",
    "                   \"text\": answers['text']\n",
    "                  }\n",
    "    return dict_answer"
   ]
  },
  {
   "cell_type": "code",
   "execution_count": 5,
   "id": "cb0c1f2f-bc4a-4f65-9191-3f89dc012b0a",
   "metadata": {
    "scrolled": true,
    "tags": []
   },
   "outputs": [],
   "source": [
    "num_ls = [str(i) for i in range(1, 8)]\n",
    "\n",
    "dict_data = []\n",
    "no_category = []\n",
    "# json parsing\n",
    "for i, v in enumerate(json_data['data']):\n",
    "    content = v['paragraphs'][0]\n",
    "    for qas_dicts in content['qas']:\n",
    "        qas_dict = qas_dicts.copy()\n",
    "        qas_dict['context'] = content['context']\n",
    "        qas_dict['document_id'] = content['document_id']\n",
    "        qas_dict['answers'] = answer_pick(qas_dict['answers'][0])\n",
    "        if len(qas_dict['question'].split('_')[0]) > 1:\n",
    "            no_category.append(qas_dict)\n",
    "        else:\n",
    "            dict_data.append(qas_dict)"
   ]
  },
  {
   "cell_type": "markdown",
   "id": "0dd06cd8-36c8-47d8-aacb-51a1e7dd7480",
   "metadata": {
    "tags": []
   },
   "source": [
    "## category 있는 애들\n",
    "- 데이터 태깅할 때, (질문유형번호)_(질문) 으로 태깅\n",
    "- Ex : 3_~한 사람은 누구인가?"
   ]
  },
  {
   "cell_type": "code",
   "execution_count": 6,
   "id": "b7ffb69c-db94-49a0-9368-5c93450b0f02",
   "metadata": {},
   "outputs": [],
   "source": [
    "df = pd.DataFrame(dict_data)"
   ]
  },
  {
   "cell_type": "code",
   "execution_count": 7,
   "id": "e908339e-13b6-4cf2-82df-f8f733c5c6d0",
   "metadata": {},
   "outputs": [
    {
     "data": {
      "text/html": [
       "<div>\n",
       "<style scoped>\n",
       "    .dataframe tbody tr th:only-of-type {\n",
       "        vertical-align: middle;\n",
       "    }\n",
       "\n",
       "    .dataframe tbody tr th {\n",
       "        vertical-align: top;\n",
       "    }\n",
       "\n",
       "    .dataframe thead th {\n",
       "        text-align: right;\n",
       "    }\n",
       "</style>\n",
       "<table border=\"1\" class=\"dataframe\">\n",
       "  <thead>\n",
       "    <tr style=\"text-align: right;\">\n",
       "      <th></th>\n",
       "      <th>question</th>\n",
       "      <th>id</th>\n",
       "      <th>answers</th>\n",
       "      <th>is_impossible</th>\n",
       "      <th>context</th>\n",
       "      <th>document_id</th>\n",
       "      <th>category</th>\n",
       "    </tr>\n",
       "  </thead>\n",
       "  <tbody>\n",
       "    <tr>\n",
       "      <th>0</th>\n",
       "      <td>제178회 완주군의회 임시회 회기는 언제로 결정됐어?</td>\n",
       "      <td>341139</td>\n",
       "      <td>{'answer_start': 144, 'text': '4월 20일부터 4월 27일...</td>\n",
       "      <td>False</td>\n",
       "      <td>@제178회        완주군의회(임시회) 제 1 차 본회의회의록@\\n\\n의사일정...</td>\n",
       "      <td>603489</td>\n",
       "      <td>1</td>\n",
       "    </tr>\n",
       "    <tr>\n",
       "      <th>1</th>\n",
       "      <td>제178회 완주군의회 임시회 회기를 발의한 사람은 누구인가?</td>\n",
       "      <td>341140</td>\n",
       "      <td>{'answer_start': 119, 'text': '김상식 위원장 외 3인의 의원'}</td>\n",
       "      <td>False</td>\n",
       "      <td>@제178회        완주군의회(임시회) 제 1 차 본회의회의록@\\n\\n의사일정...</td>\n",
       "      <td>603489</td>\n",
       "      <td>3</td>\n",
       "    </tr>\n",
       "    <tr>\n",
       "      <th>2</th>\n",
       "      <td>제7대 완주군의회 후반기 상임위원회 의원 선임건을 상정한 회의는 어떤거야?</td>\n",
       "      <td>341040</td>\n",
       "      <td>{'answer_start': 1, 'text': '제214회 완주군의회(임시회) ...</td>\n",
       "      <td>False</td>\n",
       "      <td>@제214회 완주군의회(임시회) 제1차 본 회 의 회 의 록@\\n\\n의석을 정돈하여...</td>\n",
       "      <td>604003</td>\n",
       "      <td>7</td>\n",
       "    </tr>\n",
       "    <tr>\n",
       "      <th>3</th>\n",
       "      <td>산업건설위원회 위원들은 누구인가?</td>\n",
       "      <td>341275</td>\n",
       "      <td>{'answer_start': 656, 'text': '서남용 의원님, 윤수봉 의원...</td>\n",
       "      <td>False</td>\n",
       "      <td>@제214회 완주군의회(임시회) 제1차 본 회 의 회 의 록@\\n\\n의석을 정돈하여...</td>\n",
       "      <td>604003</td>\n",
       "      <td>4</td>\n",
       "    </tr>\n",
       "    <tr>\n",
       "      <th>4</th>\n",
       "      <td>완주군의회 의원 의정활동비등 지급에 관한 조례중 개정조례안을 발의한 의원은 몇 명이야?</td>\n",
       "      <td>341034</td>\n",
       "      <td>{'answer_start': 435, 'text': '9인'}</td>\n",
       "      <td>False</td>\n",
       "      <td>@제109회 전라북도 완주군의회 (임시회) 제2호 본 회 의 회 의 록@\\n\\n의사...</td>\n",
       "      <td>603644</td>\n",
       "      <td>6</td>\n",
       "    </tr>\n",
       "  </tbody>\n",
       "</table>\n",
       "</div>"
      ],
      "text/plain": [
       "                                           question      id  \\\n",
       "0                     제178회 완주군의회 임시회 회기는 언제로 결정됐어?  341139   \n",
       "1                 제178회 완주군의회 임시회 회기를 발의한 사람은 누구인가?  341140   \n",
       "2         제7대 완주군의회 후반기 상임위원회 의원 선임건을 상정한 회의는 어떤거야?  341040   \n",
       "3                                산업건설위원회 위원들은 누구인가?  341275   \n",
       "4  완주군의회 의원 의정활동비등 지급에 관한 조례중 개정조례안을 발의한 의원은 몇 명이야?  341034   \n",
       "\n",
       "                                             answers  is_impossible  \\\n",
       "0  {'answer_start': 144, 'text': '4월 20일부터 4월 27일...          False   \n",
       "1  {'answer_start': 119, 'text': '김상식 위원장 외 3인의 의원'}          False   \n",
       "2  {'answer_start': 1, 'text': '제214회 완주군의회(임시회) ...          False   \n",
       "3  {'answer_start': 656, 'text': '서남용 의원님, 윤수봉 의원...          False   \n",
       "4                {'answer_start': 435, 'text': '9인'}          False   \n",
       "\n",
       "                                             context  document_id category  \n",
       "0  @제178회        완주군의회(임시회) 제 1 차 본회의회의록@\\n\\n의사일정...       603489        1  \n",
       "1  @제178회        완주군의회(임시회) 제 1 차 본회의회의록@\\n\\n의사일정...       603489        3  \n",
       "2  @제214회 완주군의회(임시회) 제1차 본 회 의 회 의 록@\\n\\n의석을 정돈하여...       604003        7  \n",
       "3  @제214회 완주군의회(임시회) 제1차 본 회 의 회 의 록@\\n\\n의석을 정돈하여...       604003        4  \n",
       "4  @제109회 전라북도 완주군의회 (임시회) 제2호 본 회 의 회 의 록@\\n\\n의사...       603644        6  "
      ]
     },
     "execution_count": 7,
     "metadata": {},
     "output_type": "execute_result"
    }
   ],
   "source": [
    " # Dataframe parsing / category split\n",
    "df['category'] = df.question.str.split('_').str[0]\n",
    "df['question'] = df.question.str.split('_').str[1]\n",
    "df.head()"
   ]
  },
  {
   "cell_type": "code",
   "execution_count": 8,
   "id": "eb069404-cbad-48f7-8510-c84d19ae1420",
   "metadata": {},
   "outputs": [],
   "source": [
    "# reorder\n",
    "data_df = df[['category', 'document_id', 'question', 'answers', 'context']]"
   ]
  },
  {
   "cell_type": "code",
   "execution_count": 9,
   "id": "ed540af3-a985-437c-a741-ee272925950b",
   "metadata": {},
   "outputs": [],
   "source": [
    "data_df = data_df.astype({'category':'int'})"
   ]
  },
  {
   "cell_type": "markdown",
   "id": "1a99958a-5d7a-4925-8a92-ddf06465c57a",
   "metadata": {},
   "source": [
    "## 카테고리 없는 애들\n",
    "- 33개 데이터 카테고리 미태깅, 수가 얼마 안돼 카테고리 태깅만 해서 넣어줌"
   ]
  },
  {
   "cell_type": "code",
   "execution_count": 10,
   "id": "5c9ec746-7a9c-45c8-a232-cc126dbaa185",
   "metadata": {},
   "outputs": [],
   "source": [
    "df_no_cat = pd.DataFrame(no_category)"
   ]
  },
  {
   "cell_type": "code",
   "execution_count": 11,
   "id": "87373511-e05e-4977-a54d-c28fc39655a3",
   "metadata": {},
   "outputs": [],
   "source": [
    "category = [2, 1, 3, 6, 4, 5, 2, 1, 5, 3, 7, 4, 1, 2, 4, 2, 2, 3, 2, 4, 6, 5, 6, 6, 5, 5, 7, 7, 4, 2, 4, 2, 7, 4]"
   ]
  },
  {
   "cell_type": "code",
   "execution_count": 12,
   "id": "02ed7e55-0f21-4b91-9aaf-76299a8ccac0",
   "metadata": {},
   "outputs": [],
   "source": [
    "df_no_cat['category'] = category"
   ]
  },
  {
   "cell_type": "code",
   "execution_count": 13,
   "id": "ad2c34e0-431f-46f2-9db7-90a08a6bc494",
   "metadata": {},
   "outputs": [],
   "source": [
    "data_df_no_cat = df_no_cat[['category', 'document_id', 'question', 'answers', 'context']]\n",
    "# 기존 데이터 폴더에서 더함"
   ]
  },
  {
   "cell_type": "code",
   "execution_count": 14,
   "id": "a0bf8cc8-0b8a-4377-8f7d-da1f74b74164",
   "metadata": {},
   "outputs": [],
   "source": [
    "data_concat = pd.concat([data_df, data_df_no_cat])"
   ]
  },
  {
   "cell_type": "code",
   "execution_count": 15,
   "id": "e4328f29-9dab-4eeb-9418-a20d3d1b4444",
   "metadata": {},
   "outputs": [
    {
     "data": {
      "text/html": [
       "<div>\n",
       "<style scoped>\n",
       "    .dataframe tbody tr th:only-of-type {\n",
       "        vertical-align: middle;\n",
       "    }\n",
       "\n",
       "    .dataframe tbody tr th {\n",
       "        vertical-align: top;\n",
       "    }\n",
       "\n",
       "    .dataframe thead th {\n",
       "        text-align: right;\n",
       "    }\n",
       "</style>\n",
       "<table border=\"1\" class=\"dataframe\">\n",
       "  <thead>\n",
       "    <tr style=\"text-align: right;\">\n",
       "      <th></th>\n",
       "      <th>category</th>\n",
       "      <th>document_id</th>\n",
       "      <th>question</th>\n",
       "      <th>answers</th>\n",
       "      <th>context</th>\n",
       "    </tr>\n",
       "  </thead>\n",
       "  <tbody>\n",
       "    <tr>\n",
       "      <th>0</th>\n",
       "      <td>1</td>\n",
       "      <td>603489</td>\n",
       "      <td>제178회 완주군의회 임시회 회기는 언제로 결정됐어?</td>\n",
       "      <td>{'answer_start': 144, 'text': '4월 20일부터 4월 27일...</td>\n",
       "      <td>@제178회        완주군의회(임시회) 제 1 차 본회의회의록@\\n\\n의사일정...</td>\n",
       "    </tr>\n",
       "    <tr>\n",
       "      <th>1</th>\n",
       "      <td>3</td>\n",
       "      <td>603489</td>\n",
       "      <td>제178회 완주군의회 임시회 회기를 발의한 사람은 누구인가?</td>\n",
       "      <td>{'answer_start': 119, 'text': '김상식 위원장 외 3인의 의원'}</td>\n",
       "      <td>@제178회        완주군의회(임시회) 제 1 차 본회의회의록@\\n\\n의사일정...</td>\n",
       "    </tr>\n",
       "    <tr>\n",
       "      <th>2</th>\n",
       "      <td>7</td>\n",
       "      <td>604003</td>\n",
       "      <td>제7대 완주군의회 후반기 상임위원회 의원 선임건을 상정한 회의는 어떤거야?</td>\n",
       "      <td>{'answer_start': 1, 'text': '제214회 완주군의회(임시회) ...</td>\n",
       "      <td>@제214회 완주군의회(임시회) 제1차 본 회 의 회 의 록@\\n\\n의석을 정돈하여...</td>\n",
       "    </tr>\n",
       "    <tr>\n",
       "      <th>3</th>\n",
       "      <td>4</td>\n",
       "      <td>604003</td>\n",
       "      <td>산업건설위원회 위원들은 누구인가?</td>\n",
       "      <td>{'answer_start': 656, 'text': '서남용 의원님, 윤수봉 의원...</td>\n",
       "      <td>@제214회 완주군의회(임시회) 제1차 본 회 의 회 의 록@\\n\\n의석을 정돈하여...</td>\n",
       "    </tr>\n",
       "    <tr>\n",
       "      <th>4</th>\n",
       "      <td>6</td>\n",
       "      <td>603644</td>\n",
       "      <td>완주군의회 의원 의정활동비등 지급에 관한 조례중 개정조례안을 발의한 의원은 몇 명이야?</td>\n",
       "      <td>{'answer_start': 435, 'text': '9인'}</td>\n",
       "      <td>@제109회 전라북도 완주군의회 (임시회) 제2호 본 회 의 회 의 록@\\n\\n의사...</td>\n",
       "    </tr>\n",
       "    <tr>\n",
       "      <th>...</th>\n",
       "      <td>...</td>\n",
       "      <td>...</td>\n",
       "      <td>...</td>\n",
       "      <td>...</td>\n",
       "      <td>...</td>\n",
       "    </tr>\n",
       "    <tr>\n",
       "      <th>29</th>\n",
       "      <td>2</td>\n",
       "      <td>604280</td>\n",
       "      <td>제62회 전라북도 완주군의회 2차 본회의는 언제야?</td>\n",
       "      <td>{'answer_start': 267, 'text': '7월 11일 오전 10시'}</td>\n",
       "      <td>@제62회 전라북도 완주군의회 (임시회) 제1호 본 회 의 회 의 록@\\n\\n다음은...</td>\n",
       "    </tr>\n",
       "    <tr>\n",
       "      <th>30</th>\n",
       "      <td>4</td>\n",
       "      <td>604312</td>\n",
       "      <td>제173회 임시회 회의록 서명의원은 누가 맡기로 했지?</td>\n",
       "      <td>{'answer_start': 107, 'text': '정성모 의원님과 김상식 의원님'}</td>\n",
       "      <td>@제173회       완주군의회(임시회) 제 1 차 본회의회의록@\\n\\n의사일정 ...</td>\n",
       "    </tr>\n",
       "    <tr>\n",
       "      <th>31</th>\n",
       "      <td>2</td>\n",
       "      <td>604331</td>\n",
       "      <td>제204회 완주군의회 2차 본회의는 언제야?</td>\n",
       "      <td>{'answer_start': 217, 'text': '4월 28일 오전 10시'}</td>\n",
       "      <td>@제204회 완주군의회(임시회) 제 1 차 본회의회의록@\\n\\n다음은 본회의 휴회의...</td>\n",
       "    </tr>\n",
       "    <tr>\n",
       "      <th>32</th>\n",
       "      <td>7</td>\n",
       "      <td>603661</td>\n",
       "      <td>93년도 완주군 상수도 급수조례중 개정조례안을 상정한 회의는?</td>\n",
       "      <td>{'answer_start': 1, 'text': '제24회 전라북도 완주군의회(정...</td>\n",
       "      <td>@제24회 전라북도 완주군의회(정기회) 제6호 본 회 의 회 의 록@\\n\\n다음은 ...</td>\n",
       "    </tr>\n",
       "    <tr>\n",
       "      <th>33</th>\n",
       "      <td>4</td>\n",
       "      <td>604330</td>\n",
       "      <td>제204회 완주군의회 임시회 회의록 서명은 누가 하기로 했어?</td>\n",
       "      <td>{'answer_start': 106, 'text': '김용찬 의원님과 류영렬 의원님'}</td>\n",
       "      <td>@제204회 완주군의회(임시회) 제 1 차 본회의회의록@\\n\\n다음은 의사일정 제2...</td>\n",
       "    </tr>\n",
       "  </tbody>\n",
       "</table>\n",
       "<p>1553 rows × 5 columns</p>\n",
       "</div>"
      ],
      "text/plain": [
       "    category  document_id                                          question  \\\n",
       "0          1       603489                     제178회 완주군의회 임시회 회기는 언제로 결정됐어?   \n",
       "1          3       603489                 제178회 완주군의회 임시회 회기를 발의한 사람은 누구인가?   \n",
       "2          7       604003         제7대 완주군의회 후반기 상임위원회 의원 선임건을 상정한 회의는 어떤거야?   \n",
       "3          4       604003                                산업건설위원회 위원들은 누구인가?   \n",
       "4          6       603644  완주군의회 의원 의정활동비등 지급에 관한 조례중 개정조례안을 발의한 의원은 몇 명이야?   \n",
       "..       ...          ...                                               ...   \n",
       "29         2       604280                      제62회 전라북도 완주군의회 2차 본회의는 언제야?   \n",
       "30         4       604312                    제173회 임시회 회의록 서명의원은 누가 맡기로 했지?   \n",
       "31         2       604331                          제204회 완주군의회 2차 본회의는 언제야?   \n",
       "32         7       603661                93년도 완주군 상수도 급수조례중 개정조례안을 상정한 회의는?   \n",
       "33         4       604330                제204회 완주군의회 임시회 회의록 서명은 누가 하기로 했어?   \n",
       "\n",
       "                                              answers  \\\n",
       "0   {'answer_start': 144, 'text': '4월 20일부터 4월 27일...   \n",
       "1   {'answer_start': 119, 'text': '김상식 위원장 외 3인의 의원'}   \n",
       "2   {'answer_start': 1, 'text': '제214회 완주군의회(임시회) ...   \n",
       "3   {'answer_start': 656, 'text': '서남용 의원님, 윤수봉 의원...   \n",
       "4                 {'answer_start': 435, 'text': '9인'}   \n",
       "..                                                ...   \n",
       "29     {'answer_start': 267, 'text': '7월 11일 오전 10시'}   \n",
       "30  {'answer_start': 107, 'text': '정성모 의원님과 김상식 의원님'}   \n",
       "31     {'answer_start': 217, 'text': '4월 28일 오전 10시'}   \n",
       "32  {'answer_start': 1, 'text': '제24회 전라북도 완주군의회(정...   \n",
       "33  {'answer_start': 106, 'text': '김용찬 의원님과 류영렬 의원님'}   \n",
       "\n",
       "                                              context  \n",
       "0   @제178회        완주군의회(임시회) 제 1 차 본회의회의록@\\n\\n의사일정...  \n",
       "1   @제178회        완주군의회(임시회) 제 1 차 본회의회의록@\\n\\n의사일정...  \n",
       "2   @제214회 완주군의회(임시회) 제1차 본 회 의 회 의 록@\\n\\n의석을 정돈하여...  \n",
       "3   @제214회 완주군의회(임시회) 제1차 본 회 의 회 의 록@\\n\\n의석을 정돈하여...  \n",
       "4   @제109회 전라북도 완주군의회 (임시회) 제2호 본 회 의 회 의 록@\\n\\n의사...  \n",
       "..                                                ...  \n",
       "29  @제62회 전라북도 완주군의회 (임시회) 제1호 본 회 의 회 의 록@\\n\\n다음은...  \n",
       "30  @제173회       완주군의회(임시회) 제 1 차 본회의회의록@\\n\\n의사일정 ...  \n",
       "31  @제204회 완주군의회(임시회) 제 1 차 본회의회의록@\\n\\n다음은 본회의 휴회의...  \n",
       "32  @제24회 전라북도 완주군의회(정기회) 제6호 본 회 의 회 의 록@\\n\\n다음은 ...  \n",
       "33  @제204회 완주군의회(임시회) 제 1 차 본회의회의록@\\n\\n다음은 의사일정 제2...  \n",
       "\n",
       "[1553 rows x 5 columns]"
      ]
     },
     "execution_count": 15,
     "metadata": {},
     "output_type": "execute_result"
    }
   ],
   "source": [
    "data_concat"
   ]
  },
  {
   "cell_type": "code",
   "execution_count": 16,
   "id": "f8577898-a282-4d3f-add8-71b211a6620e",
   "metadata": {},
   "outputs": [],
   "source": [
    "## index 맞추기 위해 다시 저장 \n",
    "data_concat.to_csv(\"../data/raw_data/origin_data.csv\", mode='w', index=False)"
   ]
  },
  {
   "cell_type": "code",
   "execution_count": 17,
   "id": "c057a7b2-a2d8-4863-b175-3df6e03d1df0",
   "metadata": {},
   "outputs": [],
   "source": [
    "df=pd.read_csv('../data/raw_data/origin_data.csv')"
   ]
  },
  {
   "cell_type": "markdown",
   "id": "5f229c16-8b98-4013-9ddb-c87fda44855b",
   "metadata": {},
   "source": [
    "# Mislabeling 수정& 전처리"
   ]
  },
  {
   "cell_type": "markdown",
   "id": "bf774e06-0e03-45bb-8363-d9b61a11804c",
   "metadata": {},
   "source": [
    "## question null 값\n",
    "- 486 -> 질문이 '2' ->직접 질문 넣음\n",
    "- 799 -> 질문이 NaN -> 직접 질문넣음\n",
    "- 1396 -> 질문이 '3' -> 직접 질문넣음 "
   ]
  },
  {
   "cell_type": "code",
   "execution_count": 18,
   "id": "651f7226-f486-49e5-bc03-ceb6c7d36d4f",
   "metadata": {},
   "outputs": [
    {
     "name": "stdout",
     "output_type": "stream",
     "text": [
      "<class 'pandas.core.frame.DataFrame'>\n",
      "RangeIndex: 1553 entries, 0 to 1552\n",
      "Data columns (total 5 columns):\n",
      " #   Column       Non-Null Count  Dtype \n",
      "---  ------       --------------  ----- \n",
      " 0   category     1553 non-null   int64 \n",
      " 1   document_id  1553 non-null   int64 \n",
      " 2   question     1553 non-null   object\n",
      " 3   answers      1553 non-null   object\n",
      " 4   context      1553 non-null   object\n",
      "dtypes: int64(2), object(3)\n",
      "memory usage: 60.8+ KB\n"
     ]
    }
   ],
   "source": [
    "tmp1=df.iloc[486]\n",
    "tmp2=df.iloc[799]\n",
    "tmp3=df.iloc[1396]\n",
    "\n",
    "tmp1['question']='제240회 완주군의회 임시회에서 의회 관련 사항을 보고한 사람은 누구야?'\n",
    "tmp2['question']='제98회 전라북도 완주군의회 임시회 회기 결정의 건에 대해 발의한 사람은 누구야?'\n",
    "tmp3['question']='제 103회 전라북도 완주군의회 임시회 제1회 본회의의 휴회 기간은 언제야?'\n",
    "\n",
    "df.iloc[486]=tmp1\n",
    "df.iloc[799]=tmp2\n",
    "df.iloc[1396]=tmp3\n",
    "\n",
    "df.info()"
   ]
  },
  {
   "cell_type": "markdown",
   "id": "b235644d-0c86-496b-b1da-0240785ec9fd",
   "metadata": {},
   "source": [
    "# question 내의 \"\\n\" 제거 ->10개당 1개 꼴\n"
   ]
  },
  {
   "cell_type": "code",
   "execution_count": 19,
   "id": "476582c3-d569-4765-8ef6-371b2bb4dc0f",
   "metadata": {},
   "outputs": [],
   "source": [
    "def remove_n(text):\n",
    "    new_string = re.sub(r'\\n', '', text)\n",
    "    return new_string\n",
    "\n",
    "df['question']=df['question'].apply(lambda x: remove_n(x))"
   ]
  },
  {
   "cell_type": "markdown",
   "id": "7bf20d26-1eb4-4c7e-94d8-b26c47a6da35",
   "metadata": {},
   "source": [
    "## 태깅이 잘못되어 있는 것들 확인 -> 13개 제거\n",
    "- Tokenize 이후 확인 \n",
    "- Ex : '나는 이재학이다' ->  '는 이재학이다.'로 태깅한 경우"
   ]
  },
  {
   "cell_type": "code",
   "execution_count": 20,
   "id": "8dfe432d-a38b-4313-afe5-41201e6c865a",
   "metadata": {},
   "outputs": [],
   "source": [
    "df=df.drop([84,117,387,464,546,644,683,750,812,991,1057,1426,1460])"
   ]
  },
  {
   "cell_type": "code",
   "execution_count": 21,
   "id": "15d0898b-32fd-4ef3-9413-22bbefec9d7e",
   "metadata": {},
   "outputs": [],
   "source": [
    "# index 맞추기 위해 저장\n",
    "df.to_csv(\"../data/raw_data/origin_data.csv\", mode='w', index=False)\n",
    "df = pd.read_csv(\"../data/raw_data/origin_data.csv\")"
   ]
  },
  {
   "cell_type": "markdown",
   "id": "69e16e10-9fba-4ec9-b982-26c4585c2aa7",
   "metadata": {},
   "source": [
    "## No_answer : @ -> 공백"
   ]
  },
  {
   "cell_type": "code",
   "execution_count": 22,
   "id": "90388e83-33da-4791-8bc8-af866dca53c1",
   "metadata": {},
   "outputs": [],
   "source": [
    "# dict 자료형인 answers 열이 string으로 불러와지는 것 해결\n",
    "df['answers']=df['answers'].apply(lambda x:eval(x))\n",
    "\n",
    "for i in range(len(df)):\n",
    "    if len(df['answers'][i]['text'])==1 and df['answers'][i]['text']==\"@\":\n",
    "        df['answers'][i]['text']=\" \""
   ]
  },
  {
   "cell_type": "markdown",
   "id": "8a868721-6eee-4c71-b34a-323864540e54",
   "metadata": {},
   "source": [
    "## answer text의 좌우공백 제거\n",
    "- start index의 경우 공백의 개수만큼 줄이기\n",
    "- finish index의 경우 text의 길이만큼 더해주니, 우측 공백만 제거\n",
    "- 145개의 데이터 수정"
   ]
  },
  {
   "cell_type": "code",
   "execution_count": 23,
   "id": "8820daef-f14a-4a47-867c-0842fe3004fe",
   "metadata": {},
   "outputs": [],
   "source": [
    "answer_list=df['answers']\n",
    "\n",
    "for i in range(len(answer_list)):\n",
    "    count=0\n",
    "    if answer_list[i]['text']!=\" \" and len(answer_list[i]['text'])> 1 :\n",
    "        for j in range(len(list(answer_list[i]['text']))):\n",
    "            if list(answer_list[i]['text'])[j]==\" \":\n",
    "                count+=1\n",
    "            if list(answer_list[i]['text'])[j+1]!=\" \":\n",
    "                break\n",
    "        answer_list[i]['answer_start']=answer_list[i]['answer_start']-count\n",
    "        answer_list[i]['text']=answer_list[i]['text'].strip()\n",
    "    \n",
    "df['answers']=answer_list"
   ]
  },
  {
   "cell_type": "markdown",
   "id": "7b270acc-d5e7-4def-be4a-cbefa3c52174",
   "metadata": {},
   "source": [
    "# answer text의 이상치 제거\n",
    "- 태깅을 잘못한 경우에 해당\n",
    "- 답변의 길이의 평균:16, 제3사분위수:23인 이지만, 1376의 길이를 갖음 -> 본문전체를 태깅함\n",
    "- row 하나 제거"
   ]
  },
  {
   "cell_type": "code",
   "execution_count": 24,
   "id": "dd0db98e-bbab-432a-9d31-60a0ac442dde",
   "metadata": {},
   "outputs": [
    {
     "data": {
      "text/html": [
       "<div>\n",
       "<style scoped>\n",
       "    .dataframe tbody tr th:only-of-type {\n",
       "        vertical-align: middle;\n",
       "    }\n",
       "\n",
       "    .dataframe tbody tr th {\n",
       "        vertical-align: top;\n",
       "    }\n",
       "\n",
       "    .dataframe thead th {\n",
       "        text-align: right;\n",
       "    }\n",
       "</style>\n",
       "<table border=\"1\" class=\"dataframe\">\n",
       "  <thead>\n",
       "    <tr style=\"text-align: right;\">\n",
       "      <th></th>\n",
       "      <th>category</th>\n",
       "      <th>document_id</th>\n",
       "      <th>question</th>\n",
       "      <th>answers</th>\n",
       "      <th>context</th>\n",
       "      <th>ans_len</th>\n",
       "    </tr>\n",
       "  </thead>\n",
       "  <tbody>\n",
       "    <tr>\n",
       "      <th>534</th>\n",
       "      <td>3</td>\n",
       "      <td>603665</td>\n",
       "      <td>제117회 전라북도 완주군의회 제2차 정례회에서 2005년도 군정방향에 대한 설명을...</td>\n",
       "      <td>{'answer_start': 765, 'text': '내년도 군정 여건을 살펴보면...</td>\n",
       "      <td>@제117회 전라북도 완주군의회 (제2차 정례회) 제1호 본 회 의 회 의 록@\\n...</td>\n",
       "      <td>1367</td>\n",
       "    </tr>\n",
       "    <tr>\n",
       "      <th>738</th>\n",
       "      <td>5</td>\n",
       "      <td>603843</td>\n",
       "      <td>제113회 완주군의회 1차 정례회가 7월 6일에 개회된 이유는 뭐야?</td>\n",
       "      <td>{'answer_start': 168, 'text': '완주군의회 정례회의 운영에 ...</td>\n",
       "      <td>@제113회 전라북도 완주군의회(1차 정례회) 제1호 본 회 의 회 의 록@\\n\\n...</td>\n",
       "      <td>154</td>\n",
       "    </tr>\n",
       "    <tr>\n",
       "      <th>823</th>\n",
       "      <td>5</td>\n",
       "      <td>603910</td>\n",
       "      <td>제 149회 전라북도 완주군의회 제2차 정례회 제 1호 본회의에서 다룬 군수 및 관...</td>\n",
       "      <td>{'answer_start': 223, 'text': '군민의 뜻과 목소리가 군정에...</td>\n",
       "      <td>@제149회 전라북도 완주군의회(제2차 정례회) 제1호 본 회 의 회 의 록@\\n\\...</td>\n",
       "      <td>119</td>\n",
       "    </tr>\n",
       "  </tbody>\n",
       "</table>\n",
       "</div>"
      ],
      "text/plain": [
       "     category  document_id                                           question  \\\n",
       "534         3       603665  제117회 전라북도 완주군의회 제2차 정례회에서 2005년도 군정방향에 대한 설명을...   \n",
       "738         5       603843             제113회 완주군의회 1차 정례회가 7월 6일에 개회된 이유는 뭐야?   \n",
       "823         5       603910  제 149회 전라북도 완주군의회 제2차 정례회 제 1호 본회의에서 다룬 군수 및 관...   \n",
       "\n",
       "                                               answers  \\\n",
       "534  {'answer_start': 765, 'text': '내년도 군정 여건을 살펴보면...   \n",
       "738  {'answer_start': 168, 'text': '완주군의회 정례회의 운영에 ...   \n",
       "823  {'answer_start': 223, 'text': '군민의 뜻과 목소리가 군정에...   \n",
       "\n",
       "                                               context  ans_len  \n",
       "534  @제117회 전라북도 완주군의회 (제2차 정례회) 제1호 본 회 의 회 의 록@\\n...     1367  \n",
       "738  @제113회 전라북도 완주군의회(1차 정례회) 제1호 본 회 의 회 의 록@\\n\\n...      154  \n",
       "823  @제149회 전라북도 완주군의회(제2차 정례회) 제1호 본 회 의 회 의 록@\\n\\...      119  "
      ]
     },
     "execution_count": 24,
     "metadata": {},
     "output_type": "execute_result"
    }
   ],
   "source": [
    "df['ans_len']=[len((df['answers'][i])['text']) for i in range(len(df))]\n",
    "df.sort_values('ans_len',ascending=False).head(3)"
   ]
  },
  {
   "cell_type": "code",
   "execution_count": 25,
   "id": "310cd555-4b75-420b-be86-3e1fee1f93fb",
   "metadata": {},
   "outputs": [],
   "source": [
    "df=df.drop([534])"
   ]
  },
  {
   "cell_type": "markdown",
   "id": "535a4d24-200b-41cf-9e19-116cf1f21735",
   "metadata": {},
   "source": [
    "## csv pickle로 저장\n",
    "- 데이터프레임 안의 dict 타입 보존 안되고 str 타입으로 나오는 문제 -> pickle로 해결 가능\n",
    "- pickle의 경우 데이터를 빠르게 읽고 불러올 수 있음\n",
    "    - [참고](https://m.blog.naver.com/PostView.naver?isHttpsRedirect=true&blogId=wideeyed&logNo=221250772912)\n",
    "- pickle 저장하고, pd.read_pickle 할 때 pkl 파일 확인 후 불러와야 함"
   ]
  },
  {
   "cell_type": "code",
   "execution_count": 26,
   "id": "bc8b05a8-0297-4c40-95de-920a6c127794",
   "metadata": {},
   "outputs": [],
   "source": [
    "df.to_pickle(\"../data/raw_data/origin_data.pkl\")\n",
    "df.to_csv(\"../data/raw_data/origin_data.csv\", mode='w', index=False)"
   ]
  },
  {
   "cell_type": "markdown",
   "id": "91f73270-2984-4128-94c8-218825025ed5",
   "metadata": {
    "tags": []
   },
   "source": [
    "# csv 파일 불러오기"
   ]
  },
  {
   "cell_type": "code",
   "execution_count": 27,
   "id": "a98140aa-24c7-4878-8330-5832a42a066f",
   "metadata": {},
   "outputs": [],
   "source": [
    "final_csv = pd.read_pickle(\"../data/raw_data/origin_data.pkl\")"
   ]
  },
  {
   "cell_type": "code",
   "execution_count": 28,
   "id": "af8ff9cd-acbb-4a0d-89d9-79cd8c82c53a",
   "metadata": {},
   "outputs": [
    {
     "data": {
      "text/html": [
       "<div>\n",
       "<style scoped>\n",
       "    .dataframe tbody tr th:only-of-type {\n",
       "        vertical-align: middle;\n",
       "    }\n",
       "\n",
       "    .dataframe tbody tr th {\n",
       "        vertical-align: top;\n",
       "    }\n",
       "\n",
       "    .dataframe thead th {\n",
       "        text-align: right;\n",
       "    }\n",
       "</style>\n",
       "<table border=\"1\" class=\"dataframe\">\n",
       "  <thead>\n",
       "    <tr style=\"text-align: right;\">\n",
       "      <th></th>\n",
       "      <th>category</th>\n",
       "      <th>document_id</th>\n",
       "      <th>question</th>\n",
       "      <th>answers</th>\n",
       "      <th>context</th>\n",
       "      <th>ans_len</th>\n",
       "    </tr>\n",
       "  </thead>\n",
       "  <tbody>\n",
       "    <tr>\n",
       "      <th>0</th>\n",
       "      <td>1</td>\n",
       "      <td>603489</td>\n",
       "      <td>제178회 완주군의회 임시회 회기는 언제로 결정됐어?</td>\n",
       "      <td>{'answer_start': 144, 'text': '4월 20일부터 4월 27일...</td>\n",
       "      <td>@제178회        완주군의회(임시회) 제 1 차 본회의회의록@\\n\\n의사일정...</td>\n",
       "      <td>21</td>\n",
       "    </tr>\n",
       "    <tr>\n",
       "      <th>1</th>\n",
       "      <td>3</td>\n",
       "      <td>603489</td>\n",
       "      <td>제178회 완주군의회 임시회 회기를 발의한 사람은 누구인가?</td>\n",
       "      <td>{'answer_start': 119, 'text': '김상식 위원장 외 3인의 의원'}</td>\n",
       "      <td>@제178회        완주군의회(임시회) 제 1 차 본회의회의록@\\n\\n의사일정...</td>\n",
       "      <td>16</td>\n",
       "    </tr>\n",
       "    <tr>\n",
       "      <th>2</th>\n",
       "      <td>7</td>\n",
       "      <td>604003</td>\n",
       "      <td>제7대 완주군의회 후반기 상임위원회 의원 선임건을 상정한 회의는 어떤거야?</td>\n",
       "      <td>{'answer_start': 1, 'text': '제214회 완주군의회(임시회) ...</td>\n",
       "      <td>@제214회 완주군의회(임시회) 제1차 본 회 의 회 의 록@\\n\\n의석을 정돈하여...</td>\n",
       "      <td>26</td>\n",
       "    </tr>\n",
       "    <tr>\n",
       "      <th>3</th>\n",
       "      <td>4</td>\n",
       "      <td>604003</td>\n",
       "      <td>산업건설위원회 위원들은 누구인가?</td>\n",
       "      <td>{'answer_start': 656, 'text': '서남용 의원님, 윤수봉 의원...</td>\n",
       "      <td>@제214회 완주군의회(임시회) 제1차 본 회 의 회 의 록@\\n\\n의석을 정돈하여...</td>\n",
       "      <td>43</td>\n",
       "    </tr>\n",
       "    <tr>\n",
       "      <th>4</th>\n",
       "      <td>6</td>\n",
       "      <td>603644</td>\n",
       "      <td>완주군의회 의원 의정활동비등 지급에 관한 조례중 개정조례안을 발의한 의원은 몇 명이야?</td>\n",
       "      <td>{'answer_start': 435, 'text': '9인'}</td>\n",
       "      <td>@제109회 전라북도 완주군의회 (임시회) 제2호 본 회 의 회 의 록@\\n\\n의사...</td>\n",
       "      <td>2</td>\n",
       "    </tr>\n",
       "  </tbody>\n",
       "</table>\n",
       "</div>"
      ],
      "text/plain": [
       "   category  document_id                                          question  \\\n",
       "0         1       603489                     제178회 완주군의회 임시회 회기는 언제로 결정됐어?   \n",
       "1         3       603489                 제178회 완주군의회 임시회 회기를 발의한 사람은 누구인가?   \n",
       "2         7       604003         제7대 완주군의회 후반기 상임위원회 의원 선임건을 상정한 회의는 어떤거야?   \n",
       "3         4       604003                                산업건설위원회 위원들은 누구인가?   \n",
       "4         6       603644  완주군의회 의원 의정활동비등 지급에 관한 조례중 개정조례안을 발의한 의원은 몇 명이야?   \n",
       "\n",
       "                                             answers  \\\n",
       "0  {'answer_start': 144, 'text': '4월 20일부터 4월 27일...   \n",
       "1  {'answer_start': 119, 'text': '김상식 위원장 외 3인의 의원'}   \n",
       "2  {'answer_start': 1, 'text': '제214회 완주군의회(임시회) ...   \n",
       "3  {'answer_start': 656, 'text': '서남용 의원님, 윤수봉 의원...   \n",
       "4                {'answer_start': 435, 'text': '9인'}   \n",
       "\n",
       "                                             context  ans_len  \n",
       "0  @제178회        완주군의회(임시회) 제 1 차 본회의회의록@\\n\\n의사일정...       21  \n",
       "1  @제178회        완주군의회(임시회) 제 1 차 본회의회의록@\\n\\n의사일정...       16  \n",
       "2  @제214회 완주군의회(임시회) 제1차 본 회 의 회 의 록@\\n\\n의석을 정돈하여...       26  \n",
       "3  @제214회 완주군의회(임시회) 제1차 본 회 의 회 의 록@\\n\\n의석을 정돈하여...       43  \n",
       "4  @제109회 전라북도 완주군의회 (임시회) 제2호 본 회 의 회 의 록@\\n\\n의사...        2  "
      ]
     },
     "execution_count": 28,
     "metadata": {},
     "output_type": "execute_result"
    }
   ],
   "source": [
    "final_csv.head(5)"
   ]
  },
  {
   "cell_type": "code",
   "execution_count": 29,
   "id": "61f14a97-454a-42bf-bbe6-cacb48d9739e",
   "metadata": {},
   "outputs": [
    {
     "data": {
      "text/plain": [
       "dict"
      ]
     },
     "execution_count": 29,
     "metadata": {},
     "output_type": "execute_result"
    }
   ],
   "source": [
    "type(final_csv['answers'][0])"
   ]
  },
  {
   "cell_type": "code",
   "execution_count": null,
   "id": "43104313-ebfa-4c32-82ec-b3fe94243ac4",
   "metadata": {},
   "outputs": [],
   "source": []
  }
 ],
 "metadata": {
  "kernelspec": {
   "display_name": "Python 3",
   "language": "python",
   "name": "python3"
  },
  "language_info": {
   "codemirror_mode": {
    "name": "ipython",
    "version": 3
   },
   "file_extension": ".py",
   "mimetype": "text/x-python",
   "name": "python",
   "nbconvert_exporter": "python",
   "pygments_lexer": "ipython3",
   "version": "3.8.5"
  }
 },
 "nbformat": 4,
 "nbformat_minor": 5
}
