{
 "cells": [
  {
   "cell_type": "code",
   "execution_count": 2,
   "metadata": {},
   "outputs": [
    {
     "name": "stdout",
     "output_type": "stream",
     "text": [
      "========== train test split 완료 ==========\n"
     ]
    },
    {
     "name": "stderr",
     "output_type": "stream",
     "text": [
      "/tmp/ipykernel_5693/161019503.py:24: SettingWithCopyWarning: \n",
      "A value is trying to be set on a copy of a slice from a DataFrame.\n",
      "Try using .loc[row_indexer,col_indexer] = value instead\n",
      "\n",
      "See the caveats in the documentation: https://pandas.pydata.org/pandas-docs/stable/user_guide/indexing.html#returning-a-view-versus-a-copy\n",
      "  pd_test[\"id\"] = list(range(len(pd_train)+len(pd_validation),len(pd_train)+len(pd_validation)+len(pd_test)))\n",
      "/tmp/ipykernel_5693/161019503.py:31: SettingWithCopyWarning: \n",
      "A value is trying to be set on a copy of a slice from a DataFrame.\n",
      "Try using .loc[row_indexer,col_indexer] = value instead\n",
      "\n",
      "See the caveats in the documentation: https://pandas.pydata.org/pandas-docs/stable/user_guide/indexing.html#returning-a-view-versus-a-copy\n",
      "  pd_test[\"context\"] = pd_test[\"context\"].astype(str)\n",
      "/tmp/ipykernel_5693/161019503.py:32: SettingWithCopyWarning: \n",
      "A value is trying to be set on a copy of a slice from a DataFrame.\n",
      "Try using .loc[row_indexer,col_indexer] = value instead\n",
      "\n",
      "See the caveats in the documentation: https://pandas.pydata.org/pandas-docs/stable/user_guide/indexing.html#returning-a-view-versus-a-copy\n",
      "  pd_test[\"question\"] = pd_test[\"question\"].astype(str)\n",
      "/tmp/ipykernel_5693/161019503.py:33: SettingWithCopyWarning: \n",
      "A value is trying to be set on a copy of a slice from a DataFrame.\n",
      "Try using .loc[row_indexer,col_indexer] = value instead\n",
      "\n",
      "See the caveats in the documentation: https://pandas.pydata.org/pandas-docs/stable/user_guide/indexing.html#returning-a-view-versus-a-copy\n",
      "  pd_test[\"id\"] = pd_test[\"id\"].astype(str)\n"
     ]
    }
   ],
   "source": [
    "import os\n",
    "import pandas as pd\n",
    "from sklearn.model_selection import StratifiedShuffleSplit\n",
    "import pickle\n",
    "\n",
    "FILE_NAME = \"../data/raw_data/origin_data.csv\"\n",
    "SAVE_DIR = \"../data/\"\n",
    "\n",
    "def stratified_choice_train_test_split(X, test_size=0.2, random_state=42):\n",
    "  \"\"\" 라벨별로 일정 비율로 추출합니다 (ruw_label_to_num.pkl 경로 확인 필수)\"\"\"\n",
    "  split = StratifiedShuffleSplit(n_splits=1, test_size=test_size, random_state=random_state)\n",
    "  for train_idx, test_idx in split.split(X, X[\"category\"]):\n",
    "      X_train = X.iloc[train_idx]\n",
    "      X_test = X.iloc[test_idx]\n",
    "  return X_train, X_test\n",
    "\n",
    "pd_dataset = pd.read_csv(FILE_NAME)\n",
    "pd_train, pd_test = stratified_choice_train_test_split(pd_dataset, test_size=0.1, random_state=42)\n",
    "pd_train, pd_validation = stratified_choice_train_test_split(pd_train, test_size=0.1, random_state=42)\n",
    "if not os.path.exists(SAVE_DIR):\n",
    "    os.mkdir(SAVE_DIR)\n",
    "pd_train[\"id\"] = list(range(len(pd_train)))\n",
    "pd_validation[\"id\"] = list(range(len(pd_train),len(pd_train)+len(pd_validation)))\n",
    "pd_test[\"id\"] = list(range(len(pd_train)+len(pd_validation),len(pd_train)+len(pd_validation)+len(pd_test)))\n",
    "pd_train[\"context\"] = pd_train[\"context\"].astype(str)\n",
    "pd_train[\"question\"] = pd_train[\"question\"].astype(str)\n",
    "pd_train[\"id\"] = pd_train[\"id\"].astype(str)\n",
    "pd_validation[\"context\"] = pd_validation[\"context\"].astype(str)\n",
    "pd_validation[\"question\"] = pd_validation[\"question\"].astype(str)\n",
    "pd_validation[\"id\"] = pd_validation[\"id\"].astype(str)\n",
    "pd_test[\"context\"] = pd_test[\"context\"].astype(str)\n",
    "pd_test[\"question\"] = pd_test[\"question\"].astype(str)\n",
    "pd_test[\"id\"] = pd_test[\"id\"].astype(str)\n",
    "pd_train.to_csv(os.path.join(SAVE_DIR, \"train.csv\"), index=False)\n",
    "pd_validation.to_csv(os.path.join(SAVE_DIR,\"validation.csv\"), index=False)\n",
    "pd_test.to_csv(os.path.join(SAVE_DIR, \"test.csv\"), index=False)\n",
    "\n",
    "print(\"========== train test split 완료 ==========\")"
   ]
  },
  {
   "cell_type": "code",
   "execution_count": 39,
   "metadata": {},
   "outputs": [
    {
     "data": {
      "image/png": "[encoded data removed]",
      "text/plain": [
       "<Figure size 432x288 with 3 Axes>"
      ]
     },
     "metadata": {
      "needs_background": "light"
     },
     "output_type": "display_data"
    }
   ],
   "source": [
    "import seaborn as sns\n",
    "import matplotlib.pyplot as plt\n",
    "fig = plt.figure()\n",
    "for i in range(1, 4):\n",
    "    axes = fig.add_subplot(1, 3, i)\n",
    "    if i == 1:\n",
    "        sns.countplot(y='category', data=pd_train, order=pd_train['category'].value_counts().index)\n",
    "    elif i==2:\n",
    "        sns.countplot(y='category', data=pd_validation, order=pd_validation['category'].value_counts().index)\n",
    "    else:\n",
    "        sns.countplot(y='category', data=pd_test, order=pd_test['category'].value_counts().index)\n"
   ]
  },
  {
   "cell_type": "code",
   "execution_count": 41,
   "metadata": {},
   "outputs": [
    {
     "name": "stdout",
     "output_type": "stream",
     "text": [
      "<class 'pandas.core.frame.DataFrame'>\n",
      "RangeIndex: 1553 entries, 0 to 1552\n",
      "Data columns (total 5 columns):\n",
      " #   Column       Non-Null Count  Dtype \n",
      "---  ------       --------------  ----- \n",
      " 0   category     1553 non-null   int64 \n",
      " 1   document_id  1553 non-null   int64 \n",
      " 2   question     1552 non-null   object\n",
      " 3   answers      1553 non-null   object\n",
      " 4   context      1553 non-null   object\n",
      "dtypes: int64(2), object(3)\n",
      "memory usage: 60.8+ KB\n"
     ]
    }
   ],
   "source": [
    "pd_dataset.info()"
   ]
  },
  {
   "cell_type": "code",
   "execution_count": 7,
   "metadata": {},
   "outputs": [],
   "source": [
    "for i in range(len(pd_train)):\n",
    "    if type((pd_train.iloc[i][\"context\"])) != str:\n",
    "        print(i)\n",
    "    if type(pd_train.iloc[i][\"question\"]) != str:\n",
    "        print(i)"
   ]
  },
  {
   "cell_type": "code",
   "execution_count": 20,
   "metadata": {},
   "outputs": [],
   "source": [
    "import json\n",
    "with open(\"/opt/ml/input/data/wikipedia_documents.json\",\"rb\") as f:\n",
    "    wiki = json.load(f)"
   ]
  },
  {
   "cell_type": "code",
   "execution_count": 23,
   "metadata": {},
   "outputs": [
    {
     "name": "stdout",
     "output_type": "stream",
     "text": [
      "{'text': '이 문서는 나라 목록이며, 전 세계 206개 나라의 각 현황과 주권 승인 정보를 개요 형태로 나열하고 있다.\\n\\n이 목록은 명료화를 위해 두 부분으로 나뉘어 있다.\\n\\n# 첫 번째 부분은 바티칸 시국과 팔레스타인을 포함하여 유엔 등 국제 기구에 가입되어 국제적인 승인을 널리 받았다고 여기는 195개 나라를 나열하고 있다.\\n# 두 번째 부분은 일부 지역의 주권을 사실상 (데 팍토) 행사하고 있지만, 아직 국제적인 승인을 널리 받지 않았다고 여기는 11개 나라를 나열하고 있다.\\n\\n두 목록은 모두 가나다 순이다.\\n\\n일부 국가의 경우 국가로서의 자격에 논쟁의 여부가 있으며, 이 때문에 이러한 목록을 엮는 것은 매우 어렵고 논란이 생길 수 있는 과정이다. 이 목록을 구성하고 있는 국가를 선정하는 기준에 대한 정보는 \"포함 기준\" 단락을 통해 설명하였다. 나라에 대한 일반적인 정보는 \"국가\" 문서에서 설명하고 있다.', 'corpus_source': '위키피디아', 'url': 'TODO', 'domain': None, 'title': '나라 목록', 'author': None, 'html': None, 'document_id': 0}\n"
     ]
    }
   ],
   "source": [
    "print(wiki[\"0\"])"
   ]
  },
  {
   "cell_type": "code",
   "execution_count": 36,
   "metadata": {},
   "outputs": [
    {
     "name": "stderr",
     "output_type": "stream",
     "text": [
      "100%|██████████| 156/156 [00:00<00:00, 2856.83it/s]\n"
     ]
    }
   ],
   "source": [
    "from tqdm import tqdm\n",
    "meeting_contexts = {}\n",
    "for i in tqdm(range(len(pd_test))):\n",
    "    dict_temp = {\n",
    "        'text': pd_test.iloc[i]['context'],\n",
    "        'document_id': str(pd_test.iloc[i]['document_id']),\n",
    "        'corpus_source': None, \n",
    "        'url': 'TODO', \n",
    "        'domain': None, \n",
    "        'title': f\"회의 # {pd_test.iloc[i]['document_id']}\", \n",
    "        'author': None, \n",
    "        'html': None,\n",
    "    }\n",
    "    meeting_contexts[str(i)] = dict_temp"
   ]
  },
  {
   "cell_type": "code",
   "execution_count": null,
   "metadata": {},
   "outputs": [],
   "source": [
    "str(meeting_contexts)"
   ]
  },
  {
   "cell_type": "code",
   "execution_count": 38,
   "metadata": {},
   "outputs": [
    {
     "name": "stdout",
     "output_type": "stream",
     "text": [
      "<class 'dict'>\n"
     ]
    }
   ],
   "source": [
    "import json\n",
    "print(type(meeting_contexts))\n",
    "with open('meeting_collection.json', 'r', encoding='utf-8') as f:\n",
    "    meeting_contexts = json.load(f)"
   ]
  },
  {
   "cell_type": "code",
   "execution_count": 39,
   "metadata": {},
   "outputs": [
    {
     "data": {
      "text/plain": [
       "dict_keys(['0', '1', '2', '3', '4', '5', '6', '7', '8', '9', '10', '11', '12', '13', '14', '15', '16', '17', '18', '19', '20', '21', '22', '23', '24', '25', '26', '27', '28', '29', '30', '31', '32', '33', '34', '35', '36', '37', '38', '39', '40', '41', '42', '43', '44', '45', '46', '47', '48', '49', '50', '51', '52', '53', '54', '55', '56', '57', '58', '59', '60', '61', '62', '63', '64', '65', '66', '67', '68', '69', '70', '71', '72', '73', '74', '75', '76', '77', '78', '79', '80', '81', '82', '83', '84', '85', '86', '87', '88', '89', '90', '91', '92', '93', '94', '95', '96', '97', '98', '99', '100', '101', '102', '103', '104', '105', '106', '107', '108', '109', '110', '111', '112', '113', '114', '115', '116', '117', '118', '119', '120', '121', '122', '123', '124', '125', '126', '127', '128', '129', '130', '131', '132', '133', '134', '135', '136', '137', '138', '139', '140', '141', '142', '143', '144', '145', '146', '147', '148', '149', '150', '151', '152', '153', '154', '155'])"
      ]
     },
     "execution_count": 39,
     "metadata": {},
     "output_type": "execute_result"
    }
   ],
   "source": [
    "meeting_contexts.keys()"
   ]
  },
  {
   "cell_type": "code",
   "execution_count": 46,
   "metadata": {},
   "outputs": [],
   "source": [
    "querys = pd_test[[\"question\",\"id\"]]"
   ]
  },
  {
   "cell_type": "code",
   "execution_count": 50,
   "metadata": {},
   "outputs": [
    {
     "name": "stdout",
     "output_type": "stream",
     "text": [
      "                                               question    id\n",
      "482                       제245회 완주군의회 임시회 회기는 언제로 결정됐어?  1397\n",
      "121               제92회 완주군의회 임시회 회의록의 서명의원을 선출한 회의는 뭐야?  1398\n",
      "989                     완주군에서 가부채경감특별법의 제정을 건의한 날은 언제야?  1399\n",
      "1103                2006년 제1회 추가경정예산안을 편성하고자 하는 이유는 뭐야?  1400\n",
      "55                       제70회 전라북도 완주군의회에서 휴회하는 이유가 뭐야?  1401\n",
      "...                                                 ...   ...\n",
      "99    제241회 완주군의회 임시회에서 운영위원회 협의 및 의원 간담회를 통해 협의를 한 ...  1548\n",
      "1409        2007회계연도세입세출결산검사위원선임의 건을 다루고 있는 회의는 무슨 회의지?  1549\n",
      "1450            2002년도 완주군 행정사무감사 계획서에 대해 보고하는 사람은 누구지?  1550\n",
      "954       제148회 전라북도 완주군의회 임시회 제1호 본회의에서 보고를 한 사람은 누구야?  1551\n",
      "251                    184회 의회에서 행정사무감사 특별위원회 위원장은 누구야?  1552\n",
      "\n",
      "[156 rows x 2 columns]\n"
     ]
    }
   ],
   "source": [
    "new_pd_test = pd.DataFrame(querys)\n",
    "print(new_pd_test)\n",
    "new_pd_test.to_csv(os.path.join(SAVE_DIR, \"test.csv\"), index=False)"
   ]
  },
  {
   "cell_type": "code",
   "execution_count": 43,
   "metadata": {},
   "outputs": [
    {
     "name": "stdout",
     "output_type": "stream",
     "text": [
      "{'question': \"유령'은 어느 행성에서 지구로 왔는가?\", 'id': 'mrc-1-000653'}\n"
     ]
    }
   ],
   "source": [
    "from datasets import load_from_disk\n",
    "dataset = load_from_disk(\"/opt/ml/input/data/test_dataset\")\n",
    "print(dataset[\"validation\"][0])"
   ]
  },
  {
   "cell_type": "code",
   "execution_count": null,
   "metadata": {},
   "outputs": [],
   "source": []
  }
 ],
 "metadata": {
  "interpreter": {
   "hash": "d4d1e4263499bec80672ea0156c357c1ee493ec2b1c70f0acce89fc37c4a6abe"
  },
  "kernelspec": {
   "display_name": "Python 3.8.5 ('base')",
   "language": "python",
   "name": "python3"
  },
  "language_info": {
   "codemirror_mode": {
    "name": "ipython",
    "version": 3
   },
   "file_extension": ".py",
   "mimetype": "text/x-python",
   "name": "python",
   "nbconvert_exporter": "python",
   "pygments_lexer": "ipython3",
   "version": "3.8.5"
  },
  "orig_nbformat": 4
 },
 "nbformat": 4,
 "nbformat_minor": 2
}
